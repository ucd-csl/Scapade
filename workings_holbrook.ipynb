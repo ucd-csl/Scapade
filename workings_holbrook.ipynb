{
 "cells": [
  {
   "cell_type": "code",
   "execution_count": 66,
   "metadata": {},
   "outputs": [],
   "source": [
    "from symspellpy_phonemes import symspellpy\n",
    "import pkg_resources\n",
    "from pathlib import Path\n",
    "import pickle\n",
    "import pandas as pd"
   ]
  },
  {
   "cell_type": "code",
   "execution_count": 116,
   "metadata": {},
   "outputs": [],
   "source": [
    "input_path_files = \"C:/Users/robert/Documents/zeeko_nlp/input_files/spelling_correction_dicts\"\n",
    "birkbeck_phonemes_sym = Path(input_path_files) / 'birkbeck_phonemes_sym.txt'\n",
    "birkbeck_phonemes_sym = pickle.load(open(birkbeck_phonemes_sym, \"rb\"))"
   ]
  },
  {
   "cell_type": "code",
   "execution_count": 119,
   "metadata": {},
   "outputs": [
    {
     "name": "stdout",
     "output_type": "stream",
     "text": [
      "9048\n",
      "718\n",
      "33887\n"
     ]
    }
   ],
   "source": [
    "correct = 0\n",
    "luck = 0\n",
    "for misspelling, results in birkbeck_phonemes_sym.items():\n",
    "    if results['correct_spelling'] == results['suggested']:\n",
    "        correct += 1\n",
    "    if results['correct_spelling'] in results['candidates']:\n",
    "        luck += 1\n",
    "\n",
    "print(correct)\n",
    "print(luck)\n",
    "print(len(birkbeck_phonemes_sym))"
   ]
  },
  {
   "cell_type": "code",
   "execution_count": 118,
   "metadata": {},
   "outputs": [],
   "source": [
    "input_path_files = \"C:/Users/robert/Documents/zeeko_nlp/input_files/spelling_correction_dicts\"\n",
    "holbrook_phonemes_sym = Path(input_path_files) / 'holbrook_phonemes_sym.txt'\n",
    "holbrook_phonemes_sym = pickle.load(open(holbrook_phonemes_sym, \"rb\"))"
   ]
  },
  {
   "cell_type": "code",
   "execution_count": 122,
   "metadata": {},
   "outputs": [
    {
     "name": "stdout",
     "output_type": "stream",
     "text": [
      "355\n",
      "133\n",
      "1562\n"
     ]
    }
   ],
   "source": [
    "correct = 0\n",
    "luck = 0\n",
    "for misspelling, results in holbrook_phonemes_sym.items():\n",
    "    if results['correct_spelling'] == results['suggested']:\n",
    "        correct += 1\n",
    "    if results['correct_spelling'] in results['candidates']:\n",
    "        luck += 1\n",
    "\n",
    "print(correct)\n",
    "print(luck)\n",
    "print(len(holbrook_phonemes_sym))"
   ]
  },
  {
   "cell_type": "code",
   "execution_count": 124,
   "metadata": {},
   "outputs": [],
   "source": [
    "input_path_files = \"C:/Users/robert/Documents/zeeko_nlp/input_files/spelling_correction_dicts\"\n",
    "holbrook_pyspell = Path(input_path_files) / 'holbrook_pyspell_dict.txt'\n",
    "holbrook_pyspell = pickle.load(open(holbrook_pyspell, \"rb\"))"
   ]
  },
  {
   "cell_type": "code",
   "execution_count": 125,
   "metadata": {},
   "outputs": [
    {
     "name": "stdout",
     "output_type": "stream",
     "text": [
      "448\n",
      "633\n",
      "1562\n"
     ]
    }
   ],
   "source": [
    "correct = 0\n",
    "luck = 0\n",
    "for misspelling, results in holbrook_pyspell.items():\n",
    "    if results['correct_spelling'] == results['suggested']:\n",
    "        correct += 1\n",
    "    if results['correct_spelling'] in results['candidates']:\n",
    "        luck += 1\n",
    "\n",
    "print(correct)\n",
    "print(luck)\n",
    "print(len(holbrook_pyspell))"
   ]
  },
  {
   "cell_type": "code",
   "execution_count": null,
   "metadata": {},
   "outputs": [],
   "source": []
  }
 ],
 "metadata": {
  "kernelspec": {
   "display_name": "Python 3",
   "language": "python",
   "name": "python3"
  },
  "language_info": {
   "codemirror_mode": {
    "name": "ipython",
    "version": 3
   },
   "file_extension": ".py",
   "mimetype": "text/x-python",
   "name": "python",
   "nbconvert_exporter": "python",
   "pygments_lexer": "ipython3",
   "version": "3.7.6"
  }
 },
 "nbformat": 4,
 "nbformat_minor": 2
}
