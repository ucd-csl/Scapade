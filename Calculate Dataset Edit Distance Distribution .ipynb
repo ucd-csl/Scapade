{
 "cells": [
  {
   "cell_type": "code",
   "execution_count": 1,
   "metadata": {},
   "outputs": [],
   "source": [
    "import pandas as pd\n",
    "import pickle\n",
    "import editdistance\n",
    "from collections import Counter"
   ]
  },
  {
   "cell_type": "code",
   "execution_count": 2,
   "metadata": {},
   "outputs": [],
   "source": [
    "file_path = \"input_files/spelling_correction_dicts/\"\n",
    "aspell = file_path + \"aspell_template_dict.txt\"\n",
    "birkbeck = file_path + \"birkbeck_template_dict.txt\"\n",
    "holbrook = file_path + \"holbrook_template_dict.txt\"\n",
    "wiki = file_path + \"wiki_template_dict.txt\"\n",
    "zeeko = file_path + \"zeeko_template_dict.txt\""
   ]
  },
  {
   "cell_type": "code",
   "execution_count": 3,
   "metadata": {},
   "outputs": [],
   "source": [
    "aspell_dict = pickle.load(open(aspell, \"rb\" ))\n",
    "birkbeck_dict = pickle.load(open(birkbeck, \"rb\" ))\n",
    "holbrook_dict = pickle.load(open(holbrook, \"rb\" ))\n",
    "wiki_dict = pickle.load(open(wiki, \"rb\" ))\n",
    "zeeko_dict = pickle.load(open(zeeko, \"rb\" ))"
   ]
  },
  {
   "cell_type": "code",
   "execution_count": 4,
   "metadata": {},
   "outputs": [
    {
     "name": "stdout",
     "output_type": "stream",
     "text": [
      "515\n",
      "33887\n",
      "1562\n",
      "2230\n",
      "232\n"
     ]
    }
   ],
   "source": [
    "print(len(aspell_dict))\n",
    "print(len(birkbeck_dict))\n",
    "print(len(holbrook_dict))\n",
    "print(len(wiki_dict))\n",
    "print(len(zeeko_dict))"
   ]
  },
  {
   "cell_type": "code",
   "execution_count": 5,
   "metadata": {},
   "outputs": [],
   "source": [
    "dicts = {'aspell_dict':aspell_dict, 'birkbeck_dict':birkbeck_dict, 'holbrook_dict':holbrook_dict, \n",
    "         'wiki_dict':wiki_dict, 'zeeko_dict':zeeko_dict}"
   ]
  },
  {
   "cell_type": "code",
   "execution_count": 6,
   "metadata": {},
   "outputs": [],
   "source": [
    "def counter_edit(dictionary):\n",
    "    dict_edit = dictionary.copy()\n",
    "    for key, value in dictionary.items():\n",
    "        dict_edit[key]['edit_distance'] = editdistance.eval(key, value['correct_spelling'])\n",
    "    \n",
    "    cnt = Counter()\n",
    "    for value in dict_edit.values():\n",
    "        cnt.update(str(value['edit_distance']))\n",
    "        \n",
    "    return cnt"
   ]
  },
  {
   "cell_type": "code",
   "execution_count": 7,
   "metadata": {},
   "outputs": [
    {
     "data": {
      "text/plain": [
       "Counter({'1': 250, '0': 3, '2': 160, '3': 61, '5': 11, '4': 28, '6': 2})"
      ]
     },
     "execution_count": 7,
     "metadata": {},
     "output_type": "execute_result"
    }
   ],
   "source": [
    "aspell_dict_edit = aspell_dict.copy()\n",
    "for key, value in aspell_dict.items():\n",
    "    aspell_dict_edit[key]['edit_distance'] = editdistance.eval(key, value['correct_spelling'])\n",
    "    \n",
    "aspell_cnt = Counter()\n",
    "for value in aspell_dict_edit.values():\n",
    "    aspell_cnt.update(str(value['edit_distance']))\n",
    "aspell_cnt  "
   ]
  },
  {
   "cell_type": "code",
   "execution_count": 8,
   "metadata": {},
   "outputs": [],
   "source": [
    "output = {}"
   ]
  },
  {
   "cell_type": "code",
   "execution_count": 9,
   "metadata": {},
   "outputs": [],
   "source": [
    "for dataset_name, values in dicts.items():\n",
    "    output[dataset_name] = counter_edit(values)"
   ]
  },
  {
   "cell_type": "code",
   "execution_count": 10,
   "metadata": {},
   "outputs": [
    {
     "data": {
      "text/plain": [
       "Counter({'1': 250, '0': 3, '2': 160, '3': 61, '5': 11, '4': 28, '6': 2})"
      ]
     },
     "execution_count": 10,
     "metadata": {},
     "output_type": "execute_result"
    }
   ],
   "source": [
    "output['aspell_dict']"
   ]
  },
  {
   "cell_type": "code",
   "execution_count": 11,
   "metadata": {},
   "outputs": [
    {
     "data": {
      "text/plain": [
       "Counter({'6': 1132,\n",
       "         '1': 10297,\n",
       "         '2': 8764,\n",
       "         '3': 6324,\n",
       "         '4': 4238,\n",
       "         '5': 2256,\n",
       "         '7': 519,\n",
       "         '8': 226,\n",
       "         '0': 93,\n",
       "         '9': 82})"
      ]
     },
     "execution_count": 11,
     "metadata": {},
     "output_type": "execute_result"
    }
   ],
   "source": [
    "output['birkbeck_dict']"
   ]
  },
  {
   "cell_type": "code",
   "execution_count": 12,
   "metadata": {},
   "outputs": [
    {
     "data": {
      "text/plain": [
       "Counter({'2': 481,\n",
       "         '3': 191,\n",
       "         '1': 810,\n",
       "         '0': 3,\n",
       "         '5': 18,\n",
       "         '4': 52,\n",
       "         '6': 5,\n",
       "         '7': 2})"
      ]
     },
     "execution_count": 12,
     "metadata": {},
     "output_type": "execute_result"
    }
   ],
   "source": [
    "output['holbrook_dict']"
   ]
  },
  {
   "cell_type": "code",
   "execution_count": 13,
   "metadata": {},
   "outputs": [
    {
     "data": {
      "text/plain": [
       "Counter({'1': 1536,\n",
       "         '2': 616,\n",
       "         '3': 54,\n",
       "         '8': 2,\n",
       "         '7': 1,\n",
       "         '4': 16,\n",
       "         '0': 2,\n",
       "         '5': 3})"
      ]
     },
     "execution_count": 13,
     "metadata": {},
     "output_type": "execute_result"
    }
   ],
   "source": [
    "output['wiki_dict']"
   ]
  },
  {
   "cell_type": "code",
   "execution_count": 14,
   "metadata": {},
   "outputs": [
    {
     "data": {
      "text/plain": [
       "Counter({'3': 12, '2': 75, '1': 132, '4': 5, '5': 2, '8': 1, '0': 4, '7': 1})"
      ]
     },
     "execution_count": 14,
     "metadata": {},
     "output_type": "execute_result"
    }
   ],
   "source": [
    "output['zeeko_dict']"
   ]
  },
  {
   "cell_type": "code",
   "execution_count": null,
   "metadata": {},
   "outputs": [],
   "source": []
  }
 ],
 "metadata": {
  "kernelspec": {
   "display_name": "Python 3",
   "language": "python",
   "name": "python3"
  },
  "language_info": {
   "codemirror_mode": {
    "name": "ipython",
    "version": 3
   },
   "file_extension": ".py",
   "mimetype": "text/x-python",
   "name": "python",
   "nbconvert_exporter": "python",
   "pygments_lexer": "ipython3",
   "version": "3.8.2"
  }
 },
 "nbformat": 4,
 "nbformat_minor": 4
}
