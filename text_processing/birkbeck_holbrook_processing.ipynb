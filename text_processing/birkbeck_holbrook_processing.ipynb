{
 "cells": [
  {
   "cell_type": "code",
   "execution_count": null,
   "metadata": {},
   "outputs": [],
   "source": [
    "import pandas as pd\n",
    "import numpy as np\n",
    "from pathlib import Path\n",
    "from spellchecker import SpellChecker\n",
    "import pkg_resources\n",
    "import pkg_resources\n",
    "from symspellpy import SymSpell, Verbosity"
   ]
  },
  {
   "cell_type": "code",
   "execution_count": null,
   "metadata": {},
   "outputs": [],
   "source": [
    "path_files = \"C:/Users/robert/Documents/zeeko_nlp/input_files/\"\n",
    "birkbeck_mispellings_path = Path(path_files) / 'birkbeck.txt'\n",
    "holbrook_mispellings_path = Path(path_files) / 'holbrook-missp.txt'"
   ]
  },
  {
   "cell_type": "code",
   "execution_count": null,
   "metadata": {},
   "outputs": [],
   "source": [
    "birkbeck_dict = {}\n",
    "with open(birkbeck_mispellings_path) as birkbeck_mispellings:\n",
    "    lines = [line.rstrip()for line in birkbeck_mispellings]\n",
    "    for line in lines:\n",
    "        if line[0] == '$':\n",
    "            correct_spelling = line[1:].lower()\n",
    "            continue\n",
    "        mispelling = line.lower()\n",
    "        birkbeck_dict[mispelling] = {'correct_spelling':correct_spelling}"
   ]
  },
  {
   "cell_type": "code",
   "execution_count": null,
   "metadata": {},
   "outputs": [],
   "source": [
    "spell = SpellChecker()\n",
    "counter = 0\n",
    "\n",
    "for mispelling, details in birkbeck_dict.items():\n",
    "\n",
    "    # Get the one `most likely` answer\n",
    "    birkbeck_misspellings_dict[mispelling]['correction'] = spell.correction(mispelling)\n",
    "\n",
    "    # Get a list of `likely` options\n",
    "    birkbeck_misspellings_dict[mispelling]['candidates'] = spell.candidates(mispelling)\n",
    "    \n",
    "    counter +=1 \n",
    "    if (counter+1)%1000 == 0:\n",
    "        print(counter+1)"
   ]
  },
  {
   "cell_type": "code",
   "execution_count": null,
   "metadata": {},
   "outputs": [],
   "source": [
    "birkbeck_misspell = birkbeck_dict"
   ]
  },
  {
   "cell_type": "code",
   "execution_count": null,
   "metadata": {},
   "outputs": [],
   "source": [
    "sym_spell = SymSpell(max_dictionary_edit_distance=3, prefix_length=15)\n",
    "dictionary_path = pkg_resources.resource_filename(\"symspellpy\", \"frequency_dictionary_en_82_765.txt\")\n",
    "sym_spell.load_dictionary(dictionary_path, term_index=0, count_index=1)"
   ]
  },
  {
   "cell_type": "code",
   "execution_count": null,
   "metadata": {
    "scrolled": false
   },
   "outputs": [],
   "source": [
    "for mispelling, details in birkbeck_misspell.items():\n",
    "    \n",
    "    input_term = mispelling  \n",
    "    suggestion = sym_spell.lookup(input_term, Verbosity.CLOSEST,\n",
    "                                   max_edit_distance=2)\n",
    "    suggestions = []\n",
    "    \n",
    "    if len(suggestion) == 0:\n",
    "        birkbeck_misspell[mispelling]['suggested'] = \"\"\n",
    "        birkbeck_misspell[mispelling]['candidates'] = \"\"\n",
    "    if len(suggestion) == 1:\n",
    "        birkbeck_misspell[mispelling]['suggested'] = str(suggestion[0]).split(',')\n",
    "        birkbeck_misspell[mispelling]['candidates'] = \"\"\n",
    "    if len(suggestion) > 1:\n",
    "        for symspell_suggest in suggestion:\n",
    "            suggestions.append(str(symspell_suggest).split(','))\n",
    "        birkbeck_misspell[mispelling]['suggested'] = suggestions[0]\n",
    "        birkbeck_misspell[mispelling]['candidates'] = suggestions"
   ]
  },
  {
   "cell_type": "code",
   "execution_count": null,
   "metadata": {
    "scrolled": false
   },
   "outputs": [],
   "source": [
    "correct = 0\n",
    "luck = 0\n",
    "for mispelling, results in birkbeck_misspell.items():\n",
    "    if len(results['suggested']) > 0:\n",
    "        if results['correct_spelling'] == results['suggested'][0]:\n",
    "            correct += 1\n",
    "        elif len(results['candidates']) > 0 and any(results['correct_spelling'] in sl for sl in results['candidates']):\n",
    "            luck += 1"
   ]
  },
  {
   "cell_type": "code",
   "execution_count": null,
   "metadata": {},
   "outputs": [],
   "source": [
    "print((correct)/len(birkbeck_misspell))"
   ]
  },
  {
   "cell_type": "code",
   "execution_count": null,
   "metadata": {},
   "outputs": [],
   "source": [
    "print((luck)/len(birkbeck_misspell))"
   ]
  },
  {
   "cell_type": "markdown",
   "metadata": {},
   "source": [
    "# Holbrook"
   ]
  },
  {
   "cell_type": "code",
   "execution_count": null,
   "metadata": {},
   "outputs": [],
   "source": [
    "holbrook_dict = {}\n",
    "with open(holbrook_mispellings_path) as holbrook_mispellings:\n",
    "    lines = [line.rstrip()for line in holbrook_mispellings]\n",
    "    for line in lines:\n",
    "        line = line.split()[0]\n",
    "        if line[0] == '$':\n",
    "            correct_spelling = line[1:].lower()\n",
    "            continue\n",
    "        mispelling = line.lower()\n",
    "        holbrook_dict[mispelling] = {'correct_spelling':correct_spelling}"
   ]
  },
  {
   "cell_type": "code",
   "execution_count": null,
   "metadata": {},
   "outputs": [],
   "source": [
    "holbrook_mispell = holbrook_dict.copy()"
   ]
  },
  {
   "cell_type": "code",
   "execution_count": null,
   "metadata": {},
   "outputs": [],
   "source": [
    "for mispelling, details in holbrook_mispell.items():\n",
    "    \n",
    "    input_term = mispelling  \n",
    "    suggestion = sym_spell.lookup(input_term, Verbosity.CLOSEST,\n",
    "                                   max_edit_distance=2)\n",
    "    suggestions = []\n",
    "    \n",
    "    if len(suggestion) == 0:\n",
    "        holbrook_mispell[mispelling]['suggested'] = \"\"\n",
    "        holbrook_mispell[mispelling]['candidates'] = \"\"\n",
    "    if len(suggestion) == 1:\n",
    "        holbrook_mispell[mispelling]['suggested'] = str(suggestion[0]).split(',')\n",
    "        holbrook_mispell[mispelling]['candidates'] = \"\"\n",
    "    if len(suggestion) > 1:\n",
    "        for symspell_suggest in suggestion:\n",
    "            suggestions.append(str(symspell_suggest).split(','))\n",
    "        holbrook_mispell[mispelling]['suggested'] = suggestions[0]\n",
    "        holbrook_mispell[mispelling]['candidates'] = suggestions"
   ]
  },
  {
   "cell_type": "code",
   "execution_count": null,
   "metadata": {},
   "outputs": [],
   "source": [
    "correct = 0\n",
    "luck = 0\n",
    "for mispelling, results in holbrook_mispell.items():\n",
    "    if len(results['suggested']) > 0:\n",
    "        if results['correct_spelling'] == results['suggested'][0]:\n",
    "            correct += 1\n",
    "        elif len(results['candidates']) > 0 and any(results['correct_spelling'] in sl for sl in results['candidates']):\n",
    "            luck += 1"
   ]
  },
  {
   "cell_type": "code",
   "execution_count": null,
   "metadata": {},
   "outputs": [],
   "source": [
    "print((correct)/len(holbrook_mispell))"
   ]
  },
  {
   "cell_type": "code",
   "execution_count": null,
   "metadata": {},
   "outputs": [],
   "source": [
    "print((luck)/len(holbrook_mispell))"
   ]
  },
  {
   "cell_type": "code",
   "execution_count": null,
   "metadata": {},
   "outputs": [],
   "source": [
    "holbrook_pyspell=holbrook_dict.copy()"
   ]
  },
  {
   "cell_type": "code",
   "execution_count": null,
   "metadata": {},
   "outputs": [],
   "source": [
    "spell = SpellChecker()\n",
    "counter = 0\n",
    "\n",
    "for mispelling, details in holbrook_pyspell.items():\n",
    "\n",
    "    # Get the one `most likely` answer\n",
    "    holbrook_pyspell[mispelling]['correction'] = spell.correction(mispelling)\n",
    "\n",
    "    # Get a list of `likely` options\n",
    "    holbrook_pyspell[mispelling]['candidates'] = spell.candidates(mispelling)\n",
    "    counter += 1\n",
    "    \n",
    "    if counter % 100 ==0 :\n",
    "        print(counter)"
   ]
  },
  {
   "cell_type": "code",
   "execution_count": null,
   "metadata": {},
   "outputs": [],
   "source": [
    "holbrook_pyspell"
   ]
  },
  {
   "cell_type": "code",
   "execution_count": null,
   "metadata": {},
   "outputs": [],
   "source": [
    "correct = 0\n",
    "luck = 0\n",
    "for mispelling, results in holbrook_pyspell.items():\n",
    "    if results['correct_spelling'] == results['correction']:\n",
    "        correct += 1\n",
    "    elif results['correct_spelling'] in results['candidates']:\n",
    "        luck += 1"
   ]
  },
  {
   "cell_type": "code",
   "execution_count": null,
   "metadata": {},
   "outputs": [],
   "source": [
    "print((correct)/len(holbrook_mispell))"
   ]
  },
  {
   "cell_type": "code",
   "execution_count": null,
   "metadata": {},
   "outputs": [],
   "source": [
    "print((luck)/len(holbrook_mispell))"
   ]
  },
  {
   "cell_type": "code",
   "execution_count": null,
   "metadata": {},
   "outputs": [],
   "source": [
    "print((luck+correct)/len(holbrook_mispell))"
   ]
  },
  {
   "cell_type": "code",
   "execution_count": null,
   "metadata": {},
   "outputs": [],
   "source": [
    "ls"
   ]
  },
  {
   "cell_type": "code",
   "execution_count": null,
   "metadata": {},
   "outputs": [],
   "source": [
    "path_files = \"C:/Users/robert/Documents/zeeko_nlp/input_files/\"\n",
    "birkbeck_mispellings_path = Path(path_files) / 'birkbeck.txt'\n",
    "holbrook_mispellings_path = Path(path_files) / 'holbrook_symspell_dict.txt'"
   ]
  },
  {
   "cell_type": "code",
   "execution_count": null,
   "metadata": {},
   "outputs": [],
   "source": [
    "import pickle\n",
    "holbrook_dict = pickle.load(open(holbrook_mispellings_path, \"rb\"))"
   ]
  },
  {
   "cell_type": "code",
   "execution_count": null,
   "metadata": {},
   "outputs": [],
   "source": [
    "correct = 0\n",
    "luck = 0\n",
    "for mispelling, results in holbrook_dict.items():\n",
    "    if len(results['suggested']) > 0:\n",
    "        if results['correct_spelling'] == results['suggested'][0]:\n",
    "            correct += 1\n",
    "        elif len(results['candidates']) > 0 and any(results['correct_spelling'] in sl for sl in results['candidates']):\n",
    "            luck += 1"
   ]
  },
  {
   "cell_type": "code",
   "execution_count": null,
   "metadata": {},
   "outputs": [],
   "source": [
    "correct"
   ]
  },
  {
   "cell_type": "code",
   "execution_count": null,
   "metadata": {},
   "outputs": [],
   "source": [
    "luck"
   ]
  },
  {
   "cell_type": "code",
   "execution_count": null,
   "metadata": {},
   "outputs": [],
   "source": [
    "len(holbrook_dict)"
   ]
  },
  {
   "cell_type": "code",
   "execution_count": null,
   "metadata": {},
   "outputs": [],
   "source": [
    "output_path_files = \"C:/Users/robert/Documents/zeeko_nlp/input_files/spelling_correction_dicts\""
   ]
  },
  {
   "cell_type": "code",
   "execution_count": null,
   "metadata": {},
   "outputs": [],
   "source": [
    "holbrook_mispellings_path = Path(output_path_files) / 'holbrook_symspell_dict.txt'"
   ]
  },
  {
   "cell_type": "code",
   "execution_count": null,
   "metadata": {},
   "outputs": [],
   "source": [
    "import pickle\n",
    "holbrook = pickle.load( open( holbrook_mispellings_path, \"rb\" ) )"
   ]
  },
  {
   "cell_type": "code",
   "execution_count": null,
   "metadata": {},
   "outputs": [],
   "source": [
    "correct = 0\n",
    "luck = 0\n",
    "for mispelling, results in holbrook.items():\n",
    "    if len(results['suggested']) > 0:\n",
    "        if results['correct_spelling'] == results['suggested'][0]:\n",
    "            correct += 1\n",
    "        elif len(results['candidates']) > 0 and any(results['correct_spelling'] in sl for sl in results['candidates']):\n",
    "            luck += 1"
   ]
  },
  {
   "cell_type": "code",
   "execution_count": null,
   "metadata": {},
   "outputs": [],
   "source": [
    "correct"
   ]
  },
  {
   "cell_type": "code",
   "execution_count": null,
   "metadata": {},
   "outputs": [],
   "source": [
    "luck"
   ]
  },
  {
   "cell_type": "code",
   "execution_count": null,
   "metadata": {
    "scrolled": false
   },
   "outputs": [],
   "source": [
    "holbrook"
   ]
  },
  {
   "cell_type": "code",
   "execution_count": null,
   "metadata": {},
   "outputs": [],
   "source": []
  }
 ],
 "metadata": {
  "kernelspec": {
   "display_name": "Python 3",
   "language": "python",
   "name": "python3"
  },
  "language_info": {
   "codemirror_mode": {
    "name": "ipython",
    "version": 3
   },
   "file_extension": ".py",
   "mimetype": "text/x-python",
   "name": "python",
   "nbconvert_exporter": "python",
   "pygments_lexer": "ipython3",
   "version": "3.7.6"
  }
 },
 "nbformat": 4,
 "nbformat_minor": 1
}
