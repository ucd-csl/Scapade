{
 "cells": [
  {
   "cell_type": "code",
   "execution_count": 32,
   "metadata": {},
   "outputs": [],
   "source": [
    "import ast \n",
    "f = open('frequency_dict.txt', mode='r', encoding='utf8')\n",
    "contents = f.read()\n",
    "dictionary = ast.literal_eval(contents)\n",
    "f.close()\n",
    "dictionary['the'] = dictionary['\\ufeffthe']\n",
    "del dictionary['\\ufeffthe']"
   ]
  },
  {
   "cell_type": "code",
   "execution_count": 57,
   "metadata": {},
   "outputs": [],
   "source": [
    "with open('frequency_dict_word_list_phonemes.txt', 'r') as phoneme_dict:\n",
    "    mylist = phoneme_dict.read().splitlines()\n",
    "    with open('frequency_phoneme_dict.txt', 'a') as output:\n",
    "        for line in mylist:\n",
    "            word, phoneme = line.split(' ', 1)\n",
    "            freq = dictionary[word]\n",
    "            output.write(word + ',' + phoneme + ',' + freq +  '\\r\\n')"
   ]
  },
  {
   "cell_type": "code",
   "execution_count": null,
   "metadata": {},
   "outputs": [],
   "source": []
  }
 ],
 "metadata": {
  "kernelspec": {
   "display_name": "Python 3",
   "language": "python",
   "name": "python3"
  },
  "language_info": {
   "codemirror_mode": {
    "name": "ipython",
    "version": 3
   },
   "file_extension": ".py",
   "mimetype": "text/x-python",
   "name": "python",
   "nbconvert_exporter": "python",
   "pygments_lexer": "ipython3",
   "version": "3.7.6"
  }
 },
 "nbformat": 4,
 "nbformat_minor": 2
}
