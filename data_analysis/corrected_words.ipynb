{
 "cells": [
  {
   "cell_type": "code",
   "execution_count": 2,
   "metadata": {},
   "outputs": [],
   "source": [
    "import pandas as pd\n",
    "from pathlib import Path\n",
    "import pickle\n",
    "import matplotlib\n",
    "import warnings \n",
    "warnings.filterwarnings('ignore')"
   ]
  },
  {
   "cell_type": "code",
   "execution_count": 33,
   "metadata": {},
   "outputs": [],
   "source": [
    "corrections_path = \"../data_analysis/results/\"\n",
    "incorrect_corrections_path = \"../input_files/spelling_correction_dicts/\"\n",
    "dataset_names = ['holbrook', 'birkbeck', 'zeeko', 'aspell', 'wiki']\n",
    "unique_correct_paths = {}\n",
    "all_correct_paths = {}\n",
    "incorrect_paths = {}\n",
    "\n",
    "for dataset in dataset_names:\n",
    "    unique_correct_paths[dataset] = corrections_path + dataset + '/symspell_cmu_phonemes/'+ 'cmu_phonemes.csv'\n",
    "    all_correct_paths[dataset] = corrections_path + dataset + '/symspell_cmu_phonemes/' + 'both.csv'\n",
    "    incorrect_paths[dataset] = incorrect_corrections_path + dataset + '_phonemes_sym.txt'"
   ]
  },
  {
   "cell_type": "code",
   "execution_count": 46,
   "metadata": {},
   "outputs": [],
   "source": [
    "def load_display_results(file_path):\n",
    "    if file_path[-3:] == 'csv':\n",
    "        df = pd.read_csv(file_path)\n",
    "        return df"
   ]
  },
  {
   "cell_type": "code",
   "execution_count": 51,
   "metadata": {},
   "outputs": [],
   "source": [
    "df = load_display_results(unique_correct_paths['holbrook'])"
   ]
  },
  {
   "cell_type": "code",
   "execution_count": 49,
   "metadata": {},
   "outputs": [
    {
     "name": "stdout",
     "output_type": "stream",
     "text": [
      "      Mispelling   Suggestion\n",
      "0            bos         boss\n",
      "1            hed         head\n",
      "2       facttoer      factory\n",
      "3          fiyer         fire\n",
      "4             im          him\n",
      "5            ive         i've\n",
      "6          janes       jane's\n",
      "7           jone         joan\n",
      "8        joneses      jones's\n",
      "9            led         lead\n",
      "10   macwillaims  macwilliams\n",
      "11         marry         mary\n",
      "12     swizaland  switzerland\n",
      "13            tv           tv\n",
      "14         thats       that's\n",
      "15     amberless    ambulance\n",
      "16        anwerd     answered\n",
      "17          eney          any\n",
      "18        babyes       babies\n",
      "19          bakh         back\n",
      "20         bodys       bodies\n",
      "21       borrowd     borrowed\n",
      "22      brecfast    breakfast\n",
      "23        brakes       breaks\n",
      "24         breez       breeze\n",
      "25        brusls     brussels\n",
      "26       bubbals      bubbles\n",
      "27         billd        build\n",
      "28        billed        build\n",
      "29      billding     building\n",
      "..           ...          ...\n",
      "146       sopose      suppose\n",
      "147      therell     there'll\n",
      "148       theves      thieves\n",
      "149         tung       tongue\n",
      "150         tern         turn\n",
      "151     on_hethy    unhealthy\n",
      "152      whating      waiting\n",
      "153        whont         want\n",
      "154         wach        watch\n",
      "155        wavey         wavy\n",
      "156       waying     weighing\n",
      "157          wen         when\n",
      "158        whent         went\n",
      "159         wher         were\n",
      "160       wern't      weren't\n",
      "161       whernt      weren't\n",
      "162         weel        wheel\n",
      "163        witch        which\n",
      "164      wiscell      whistle\n",
      "165    who_evers    whoever's\n",
      "166        we'll         will\n",
      "167        womon        woman\n",
      "168       wunder       wonder\n",
      "169        worme         worm\n",
      "170        worye        worry\n",
      "171         rong        wrong\n",
      "172         roat        wrote\n",
      "173        yanky       yankee\n",
      "174          yew          you\n",
      "175          yor         your\n",
      "\n",
      "[176 rows x 2 columns]\n",
      "      Mispelling   Suggestion\n",
      "0            bos         boss\n",
      "1            hed         head\n",
      "2       facttoer      factory\n",
      "3          fiyer         fire\n",
      "4             im          him\n",
      "5            ive         i've\n",
      "6          janes       jane's\n",
      "7           jone         joan\n",
      "8        joneses      jones's\n",
      "9            led         lead\n",
      "10   macwillaims  macwilliams\n",
      "11         marry         mary\n",
      "12     swizaland  switzerland\n",
      "13            tv           tv\n",
      "14         thats       that's\n",
      "15     amberless    ambulance\n",
      "16        anwerd     answered\n",
      "17          eney          any\n",
      "18        babyes       babies\n",
      "19          bakh         back\n",
      "20         bodys       bodies\n",
      "21       borrowd     borrowed\n",
      "22      brecfast    breakfast\n",
      "23        brakes       breaks\n",
      "24         breez       breeze\n",
      "25        brusls     brussels\n",
      "26       bubbals      bubbles\n",
      "27         billd        build\n",
      "28        billed        build\n",
      "29      billding     building\n",
      "..           ...          ...\n",
      "146       sopose      suppose\n",
      "147      therell     there'll\n",
      "148       theves      thieves\n",
      "149         tung       tongue\n",
      "150         tern         turn\n",
      "151     on_hethy    unhealthy\n",
      "152      whating      waiting\n",
      "153        whont         want\n",
      "154         wach        watch\n",
      "155        wavey         wavy\n",
      "156       waying     weighing\n",
      "157          wen         when\n",
      "158        whent         went\n",
      "159         wher         were\n",
      "160       wern't      weren't\n",
      "161       whernt      weren't\n",
      "162         weel        wheel\n",
      "163        witch        which\n",
      "164      wiscell      whistle\n",
      "165    who_evers    whoever's\n",
      "166        we'll         will\n",
      "167        womon        woman\n",
      "168       wunder       wonder\n",
      "169        worme         worm\n",
      "170        worye        worry\n",
      "171         rong        wrong\n",
      "172         roat        wrote\n",
      "173        yanky       yankee\n",
      "174          yew          you\n",
      "175          yor         your\n",
      "\n",
      "[176 rows x 2 columns]\n"
     ]
    }
   ],
   "source": [
    "with pd.option_context('display.max_rows', None, 'display.max_columns', None):  # more options can be specified also\n",
    "    print(df)"
   ]
  },
  {
   "cell_type": "markdown",
   "metadata": {},
   "source": [
    "# Results of CMU Phoneme Spelling Correction - Word Lists"
   ]
  },
  {
   "cell_type": "markdown",
   "metadata": {},
   "source": [
    "## Table of Contents\n",
    "1. [Introduction](#introduction) <br/>\n",
    "2. [Holbrook Dataset Word Results](#holbrook) <br/>\n",
    "    2.1 [Holbrook Unique 'Correct' Corrections](#holbrook_correct) <br/>\n",
    "    2.2 [Holbrook All 'Correct' Corrections](#holbrook_correct_all) <br/>\n",
    "    2.3 [Holbrook 'Incorrect' Corrections](#holbrook_incorrect) <br/>\n",
    "3. [Birkbeck Dataset Word Results](#birkbeck) <br/>\n",
    "    3.1 [Birkbeck Unique 'Correct' Corrections](#birkbeck_correct) <br/>\n",
    "    3.2 [Birkbeck All 'Correct' Corrections](#birkbeck_correct_all) <br/>\n",
    "    3.3 [Birkbeck 'Incorrect' Corrections](#birkbeck_incorrect) <br/>\n",
    "4. [Zeeko Dataset Word Results](#zeeko) <br/>\n",
    "    4.1 [Zeeko Unique 'Correct' Corrections](#zeeko_correct) <br/>\n",
    "    4.2 [Zeeko All 'Correct' Corrections](#zeeko_correct_all) <br/>\n",
    "    4.3 [Zeeko 'Incorrect' Corrections](#zeeko_incorrect) <br/>\n",
    "5. [Aspell Dataset Word Results](#aspell) <br/>\n",
    "    5.1 [Aspell Unique 'Correct' Corrections](#aspell_correct) <br/>\n",
    "    5.2 [Aspell All 'Correct' Corrections](#aspell_correct_all) <br/>\n",
    "    5.3 [Aspell 'Incorrect' Corrections](#aspell_incorrect) <br/>\n",
    "6. [Wikipedia Dataset Word Results](#wiki) <br/>\n",
    "    6.1 [Wikipedia Unique 'Correct' Corrections](#wiki_correct) <br/>\n",
    "    6.2 [Wikipedia All'Correct' Corrections](#wiki_correct_all) <br/>\n",
    "    6.3 [Wikipedia 'Incorrect' Corrections](#wiki_incorrect) <br/>"
   ]
  },
  {
   "cell_type": "markdown",
   "metadata": {},
   "source": [
    "## 1.0 - Introduction <a name=\"introduction\"><a/>"
   ]
  },
  {
   "cell_type": "markdown",
   "metadata": {},
   "source": [
    "This notebook displays the results of the CMU Phoneme correction method on the five datasets used. There are two sets of corrections shown for each dataset:\n",
    "1. Unique 'correct' corrections - the phoneme sequence corrections made that were deemed correct that a given (SymSpell) traditional spell checker was unable to correct.\n",
    "2. All 'correct' corrections - all the correct corrections made by the phoneme sequence method.\n",
    "3. All 'incorrect' corrections - the phoneme sequence corrections made that were deemed incorrect."
   ]
  },
  {
   "cell_type": "markdown",
   "metadata": {},
   "source": [
    "## 2.0 - Holbrook Dataset Word Results <a name=\"holbrook\"><a/>"
   ]
  },
  {
   "cell_type": "code",
   "execution_count": null,
   "metadata": {},
   "outputs": [],
   "source": []
  },
  {
   "cell_type": "markdown",
   "metadata": {},
   "source": [
    "### 2.1 - Holbrook Unique 'Correct' Corrections <a name=\"holbrook_correct\"><a/>"
   ]
  },
  {
   "cell_type": "code",
   "execution_count": null,
   "metadata": {},
   "outputs": [],
   "source": [
    "unique_correct_paths"
   ]
  },
  {
   "cell_type": "markdown",
   "metadata": {},
   "source": [
    "### 2.2 - Holbrook All 'Correct' Corrections <a name=\"holbrook_correct_all\"><a/>"
   ]
  },
  {
   "cell_type": "code",
   "execution_count": null,
   "metadata": {},
   "outputs": [],
   "source": [
    "all_correct_paths"
   ]
  },
  {
   "cell_type": "markdown",
   "metadata": {},
   "source": [
    "### 2.3 - Holbrook 'Incorrect' Corrections <a name=\"holbrook_incorrect\"><a/>"
   ]
  },
  {
   "cell_type": "code",
   "execution_count": null,
   "metadata": {},
   "outputs": [],
   "source": [
    "incorrect_paths"
   ]
  },
  {
   "cell_type": "markdown",
   "metadata": {},
   "source": [
    "## 3.0 - Birkbeck Dataset Word Results <a name=\"birkbeck\"><a/>"
   ]
  },
  {
   "cell_type": "code",
   "execution_count": null,
   "metadata": {},
   "outputs": [],
   "source": []
  },
  {
   "cell_type": "markdown",
   "metadata": {},
   "source": [
    "### 3.1 - Birkbeck Unique 'Correct' Corrections <a name=\"birkbeck_correct\"><a/>"
   ]
  },
  {
   "cell_type": "code",
   "execution_count": null,
   "metadata": {},
   "outputs": [],
   "source": []
  },
  {
   "cell_type": "markdown",
   "metadata": {},
   "source": [
    "### 3.2 - Birkbeck All 'Correct' Corrections <a name=\"birkbeck_correct_all\"><a/>"
   ]
  },
  {
   "cell_type": "code",
   "execution_count": null,
   "metadata": {},
   "outputs": [],
   "source": []
  },
  {
   "cell_type": "markdown",
   "metadata": {},
   "source": [
    "### 3.3 - Birkbeck 'Incorrect' Corrections <a name=\"birkbeck_incorrect\"><a/>"
   ]
  },
  {
   "cell_type": "code",
   "execution_count": null,
   "metadata": {},
   "outputs": [],
   "source": []
  },
  {
   "cell_type": "markdown",
   "metadata": {},
   "source": [
    "## 4.0 - Zeeko Dataset Word Results <a name=\"zeeko\"><a/>"
   ]
  },
  {
   "cell_type": "code",
   "execution_count": null,
   "metadata": {},
   "outputs": [],
   "source": []
  },
  {
   "cell_type": "markdown",
   "metadata": {},
   "source": [
    "### 4.1 - Zeeko Unique 'Correct' Corrections <a name=\"zeeko_correct\"><a/>"
   ]
  },
  {
   "cell_type": "code",
   "execution_count": null,
   "metadata": {},
   "outputs": [],
   "source": []
  },
  {
   "cell_type": "markdown",
   "metadata": {},
   "source": [
    "### 4.2 - Zeeko All 'Correct' Corrections <a name=\"zeeko_correct_all\"><a/>"
   ]
  },
  {
   "cell_type": "code",
   "execution_count": null,
   "metadata": {},
   "outputs": [],
   "source": []
  },
  {
   "cell_type": "markdown",
   "metadata": {},
   "source": [
    "### 4.3 - Zeeko 'Incorrect' Corrections <a name=\"zeeko_incorrect\"><a/>"
   ]
  },
  {
   "cell_type": "code",
   "execution_count": null,
   "metadata": {},
   "outputs": [],
   "source": []
  },
  {
   "cell_type": "markdown",
   "metadata": {},
   "source": [
    "## 5.0 - Aspell Dataset Word Results <a name=\"aspell\"><a/>"
   ]
  },
  {
   "cell_type": "markdown",
   "metadata": {},
   "source": []
  },
  {
   "cell_type": "markdown",
   "metadata": {},
   "source": [
    "### 5.1 - Aspell Unique 'Correct' Corrections <a name=\"aspell_correct\"><a/>"
   ]
  },
  {
   "cell_type": "code",
   "execution_count": null,
   "metadata": {},
   "outputs": [],
   "source": []
  },
  {
   "cell_type": "markdown",
   "metadata": {},
   "source": [
    "### 5.2 - Aspell All 'Correct' Corrections <a name=\"aspell_correct_all\"><a/>"
   ]
  },
  {
   "cell_type": "code",
   "execution_count": null,
   "metadata": {},
   "outputs": [],
   "source": []
  },
  {
   "cell_type": "markdown",
   "metadata": {},
   "source": [
    "### 5.3 - Aspell 'Incorrect' Corrections <a name=\"aspell_incorrect\"><a/>"
   ]
  },
  {
   "cell_type": "markdown",
   "metadata": {},
   "source": []
  },
  {
   "cell_type": "markdown",
   "metadata": {},
   "source": [
    "## 6.0 - Wikipedia Dataset Word Results <a name=\"wiki\"><a/>"
   ]
  },
  {
   "cell_type": "code",
   "execution_count": null,
   "metadata": {},
   "outputs": [],
   "source": []
  },
  {
   "cell_type": "markdown",
   "metadata": {},
   "source": [
    "### 6.1 - Wikipedia Unique 'Correct' Corrections <a name=\"wiki_correct\"><a/>"
   ]
  },
  {
   "cell_type": "code",
   "execution_count": null,
   "metadata": {},
   "outputs": [],
   "source": []
  },
  {
   "cell_type": "markdown",
   "metadata": {},
   "source": [
    "### 6.2 - Wikipedia All 'Correct' Corrections <a name=\"wiki_correct_all\"><a/>"
   ]
  },
  {
   "cell_type": "code",
   "execution_count": null,
   "metadata": {},
   "outputs": [],
   "source": []
  },
  {
   "cell_type": "markdown",
   "metadata": {},
   "source": [
    "### 6.3 - Wikipedia 'Incorrect' Corrections <a name=\"wiki_incorrect\"><a/>"
   ]
  },
  {
   "cell_type": "code",
   "execution_count": null,
   "metadata": {},
   "outputs": [],
   "source": []
  }
 ],
 "metadata": {
  "kernelspec": {
   "display_name": "Python 3",
   "language": "python",
   "name": "python3"
  },
  "language_info": {
   "codemirror_mode": {
    "name": "ipython",
    "version": 3
   },
   "file_extension": ".py",
   "mimetype": "text/x-python",
   "name": "python",
   "nbconvert_exporter": "python",
   "pygments_lexer": "ipython3",
   "version": "3.7.0"
  }
 },
 "nbformat": 4,
 "nbformat_minor": 2
}
