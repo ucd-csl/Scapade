{
 "cells": [
  {
   "cell_type": "code",
   "execution_count": 194,
   "metadata": {},
   "outputs": [],
   "source": [
    "import pandas as pd\n",
    "import pickle\n",
    "from pathlib import Path\n",
    "import matplotlib\n",
    "import matplotlib.pyplot as plt\n",
    "from matplotlib_venn import venn2\n",
    "from matplotlib.pyplot import figure\n",
    "import warnings\n",
    "warnings.filterwarnings('ignore')"
   ]
  },
  {
   "cell_type": "code",
   "execution_count": 195,
   "metadata": {},
   "outputs": [],
   "source": [
    "font = {'family' : 'normal',\n",
    "        'weight' : 'normal',\n",
    "        'size'   : 16}\n",
    "matplotlib.rc('font', **font)"
   ]
  },
  {
   "cell_type": "code",
   "execution_count": 196,
   "metadata": {},
   "outputs": [],
   "source": [
    "class color:\n",
    "   BOLD = '\\033[1m'\n",
    "   END = '\\033[0m'"
   ]
  },
  {
   "cell_type": "code",
   "execution_count": 197,
   "metadata": {},
   "outputs": [],
   "source": [
    "input_path_files = \"../input_files/spelling_correction_dicts\""
   ]
  },
  {
   "cell_type": "markdown",
   "metadata": {},
   "source": [
    "# Results of Spelling Correction Methods - Scores and Overlap"
   ]
  },
  {
   "cell_type": "markdown",
   "metadata": {},
   "source": [
    "## Table of Contents\n",
    "1. [Introduction](#introduction)<br/>\n",
    "    1.1 [Function Definition](#functions)<br/>\n",
    "2. [Holbrook Dataset](#holbrook)<br/>\n",
    "    2.1 [Holbrook Scores](#holbrook_scores)<br/>\n",
    "    2.2 [Holbrook Overlap - PySpell vs Phonemes Method](#holbrook_overlap_pyspell_cmu)<br/>\n",
    "    2.3 [Holbrook Overlap - SymSpell vs Phonemes Method](#holbrook_overlap_symspell_cmu)<br/>\n",
    "3. [Birkbeck Dataset](#birkbeck)<br/>\n",
    "    3.1 [Birkbeck Scores](#birkbeck_scores)<br/>\n",
    "    3.2 [Birbeck Overlap - PySpell](#birkbeck_overlap_pyspell)<br/>\n",
    "    3.3 [Birkbeck Overlap - SymSpell](#birkbeck_overlap_symspell)<br/>\n",
    "4. [Zeeko Dataset](#zeeko)<br/>\n",
    "    4.1 [Zeeko Scores](#zeeko_scores)<br/>\n",
    "    4.2 [Zeeko Overlap - PySpell](#zeeko_overlap_pyspell)<br/>\n",
    "    4.3 [Zeeko Overlap - SymSpell](#zeeko_overlap_symspell)<br/>\n",
    "5. [Aspell Dataset](#aspell)<br/>\n",
    "    5.1 [Aspell Scores](#aspell_scores)<br/>\n",
    "    5.2 [Aspell Overlap - PySpell vs Phonemes Method](#aspell_overlap_pyspell_cmu)<br/>\n",
    "    5.3 [Aspell Overlap - SymSpell vs Phonemes Method](#aspell_overlap_symspell_cmu)<br/>\n",
    "6. [Wikipedia Dataset](#wiki)<br/>\n",
    "    6.1 [Wikipedia Scores](#wiki_scores)<br/>\n",
    "    6.2 [Wikipedia Overlap - PySpell vs Phonemes Method](#wiki_overlap_pyspell)<br/>\n",
    "    6.3 [Wikipedia Overlap - SymSpell vs Phonemes Method](#wike_overlap_symspell)<br/>"
   ]
  },
  {
   "cell_type": "markdown",
   "metadata": {},
   "source": [
    "## 1.0 Introduction <a name=\"introduction\"></a>\n",
    "\n",
    "The purpose of this notebook is to the display the results of the phoneme spelling correction research work carried out. In total, five datasets of spelling mistakes were used for this body of work, they are:\n",
    "\n",
    "1. [Holbrook](https://www.dcs.bbk.ac.uk/~ROGER/holbrook-missp.dat)\n",
    "2. [Birkbeck](https://www.dcs.bbk.ac.uk/~ROGER/missp.dat)\n",
    "3. [Aspell](https://www.dcs.bbk.ac.uk/~ROGER/aspell.dat)\n",
    "4. [Wikipedia](https://www.dcs.bbk.ac.uk/~ROGER/wikipedia.dat)\n",
    "5. [Zeeko]()\n",
    "\n",
    "The first four datasets and their description may be found [here](https://www.dcs.bbk.ac.uk/~ROGER/corpora.html). \n",
    "\n",
    "The last dataset, 'Zeeko', is made up of spelling mistakes written in a free form survey by school children. The surveys in their entirety may be see in [zeeko_surveys](https://github.com/robertyoung2/nlp_phoneme_spelling/tree/master/zeeko_surveys).\n",
    "\n",
    "For each dataset there are three key results included:\n",
    "* Scores: the accuracy of each method on the given dataset (corrections/total_words).\n",
    "* Overlap PySpell - the overlap of the Phoneme correction method vs the [PySpell](https://norvig.com/spell-correct.html) word correction method.\n",
    "* Overlap SymSpell - the overlap of the Phoneme correction method vs the [SymSpell](https://github.com/wolfgarbe/SymSpell) word correction method.\n",
    "\n",
    "Overlap shows words corrected by either one, other or both of the methods.\n",
    "\n",
    "**NB**: the luck method for the phoneme method is in a very rough form, and as such it should not be considered for dicussion/inclusion at this time."
   ]
  },
  {
   "cell_type": "markdown",
   "metadata": {},
   "source": [
    "## 1.1 Function Definition - Overlap and Scores <a name=\"functions\"></a>"
   ]
  },
  {
   "cell_type": "code",
   "execution_count": 198,
   "metadata": {},
   "outputs": [],
   "source": [
    "def overlap(dict_1, dict_2, dict_1_name, dict_2_name, data_name, comparison_name):\n",
    "    \"\"\" \n",
    "    Calculates the 'overlap' between the results of two spelling correction methods on the same dataset\n",
    "    \n",
    "    :param dict_1: first spelling correction python dictionary object to compare.\n",
    "    :param dict_2: second spelling correction python dictionary object to compare.\n",
    "    :param dict_1_name: name of the first python dictionary object eg. 'pyspell'.\n",
    "    :param dict_2_name: name of the second python dictionary object eg. 'cmu_phonemes'.\n",
    "    :param data_name: dataset used eg. 'holbrook'. Used for outputting results to correct directory. \\\n",
    "        Currently used names = ['aspell', 'birkbeck', 'holbrook', 'wiki', 'zeeko']\n",
    "    :param comparison_name: the comparison of the two methods used eg. 'pyspell_cmu_phonemes'. Used to output \\\n",
    "        to the correct sub-dir. Currently used = ['pyspell_cmu_phonemes', 'symspell_cmu_phonemes']\n",
    "    :output: Writes the results to the respect directories and sub-directories.\n",
    "    :return: Returns the values for unique corrections per method, and the overlap between the two.\n",
    "    \n",
    "    Example: overlap(holbrook_pyspell, holbrook_phonemes, 'pyspell', 'cmu_phonemes', 'holbrook', \\\n",
    "    'pyspell_cmu_phonemes')\n",
    "    \"\"\"\n",
    "    path = \"results/\" + data_name + \"/\" + comparison_name + \"/\"\n",
    "    \n",
    "    both_correct_count = 0\n",
    "    dict_1_correct_count = 0\n",
    "    dict_2_correct_count = 0\n",
    "    \n",
    "    both_correct_list = []\n",
    "    dict_1_correct_list = []\n",
    "    dict_2_correct_list = []\n",
    "    \n",
    "    for key in dict_1.keys():\n",
    "        \n",
    "        if dict_1[key]['suggested'] == dict_2[key]['suggested']:\n",
    "            if dict_1[key]['suggested'] == dict_1[key]['correct_spelling']:\n",
    "                both_correct_count +=1\n",
    "                mispelling = key\n",
    "                suggestion = dict_1[key]['correct_spelling']\n",
    "                both_correct_list.append({'Mispelling':mispelling, \n",
    "                                          'Suggestion':suggestion})\n",
    "                \n",
    "        elif dict_1[key]['suggested'] == dict_1[key]['correct_spelling']:\n",
    "            dict_1_correct_count += 1\n",
    "            mispelling = key\n",
    "            suggestion = dict_1[key]['correct_spelling']\n",
    "            dict_1_correct_list.append({'Mispelling':mispelling, \n",
    "                                        'suggestion':suggestion})\n",
    "            \n",
    "            \n",
    "        elif dict_2[key]['suggested'] == dict_2[key]['correct_spelling']:\n",
    "            dict_2_correct_count +=1\n",
    "            mispelling = key\n",
    "            suggestion = dict_2[key]['correct_spelling']\n",
    "            dict_2_correct_list.append({'Mispelling':mispelling, \n",
    "                                        'Suggestion':suggestion})\n",
    "        \n",
    "    df_both = pd.DataFrame(both_correct_list)\n",
    "    df_dict_1 = pd.DataFrame(dict_1_correct_list)\n",
    "    df_dict_2 = pd.DataFrame(dict_2_correct_list)\n",
    "    \n",
    "    df_both.to_csv((path+'both.csv'),index=False)\n",
    "    df_dict_1.to_csv((path+dict_1_name+'.csv'),index=False)\n",
    "    df_dict_2.to_csv((path+dict_2_name+'.csv'),index=False)\n",
    "    \n",
    "    return({'both':both_correct_count, dict_1_name:dict_1_correct_count, \n",
    "            dict_2_name:dict_2_correct_count})"
   ]
  },
  {
   "cell_type": "code",
   "execution_count": 199,
   "metadata": {},
   "outputs": [],
   "source": [
    "def score_application(name, input_dict):\n",
    "    \"\"\"\n",
    "    Calculates and returns the scores for a given method and results dictionary\n",
    "    :param name: the name of the method as a string eg. 'SymSpell'\n",
    "    :param input_dict: the input dict of spelling corrections to be score eg. \n",
    "    'holbrook_symspell'\n",
    "    :returns: a dictionary of results\n",
    "    \"\"\"\n",
    "    correct = 0\n",
    "    candidates = 0\n",
    "    for misspelling, results in input_dict.items():    \n",
    "        if results['correct_spelling'] == results['suggested']:\n",
    "            correct += 1\n",
    "        elif results['correct_spelling'] in results['candidates']:\n",
    "            candidates += 1\n",
    "\n",
    "    correct_and_candidates = correct + candidates\n",
    "    \n",
    "    results = {'Spelling Application':name, 'Correct':correct, \n",
    "               'Candidates':candidates, \n",
    "               'Correct_and_Candidates':correct_and_candidates}\n",
    "\n",
    "    return results"
   ]
  },
  {
   "cell_type": "code",
   "execution_count": 200,
   "metadata": {},
   "outputs": [],
   "source": [
    "def assign_scores(df, name):\n",
    "    \n",
    "    dict = {}\n",
    "    \n",
    "    dict[name + '_pyspell_acc'] = int(df[df['Spelling Application'] == 'PySpell']['Correct'])\n",
    "    dict[name + '_symspell_acc'] = int(df[df['Spelling Application'] == 'SymSpell']['Correct'])\n",
    "    dict[name + '_phoneme_acc'] = int(df[df['Spelling Application'] == 'Phonemes Method']['Correct'])\n",
    "\n",
    "    dict[name + '_pyspell_cand'] = int(df[df['Spelling Application'] == 'PySpell']['Candidates'])\n",
    "    dict[name + '_symspell_cand'] = int(df[df['Spelling Application'] == 'SymSpell']['Candidates'])\n",
    "    dict[name + '_phoneme_cand'] = int(df[df['Spelling Application'] == 'Phonemes Method']['Candidates'])\n",
    "\n",
    "    dict[name + '_pyspell_comb'] = int(df[df['Spelling Application'] == 'PySpell']['Correct_and_Candidates'])\n",
    "    dict[name + '_symspell_comb'] = int(df[df['Spelling Application'] == 'SymSpell']['Correct_and_Candidates'])\n",
    "    dict[name + '_phoneme_comb'] = int(df[df['Spelling Application'] == 'Phonemes Method']['Correct_and_Candidates'])\n",
    "    \n",
    "    return dict"
   ]
  },
  {
   "cell_type": "code",
   "execution_count": 201,
   "metadata": {},
   "outputs": [],
   "source": [
    "def print_scores(dic, name, total_words):\n",
    "    \n",
    "    \n",
    "    print(\"PySpell Accuracy:\", str(round(dic[name + '_pyspell_acc']/total_words*100,2)) + \"%\")\n",
    "    print(\"SymSpell Accuracy:\", str(round(dic[name + '_symspell_acc']/total_words*100,2)) + \"%\")\n",
    "    print(\"Phoneme Accuracy:\", str(round(dic[name + '_phoneme_acc']/total_words*100,2)) + \"%\\n\")\n",
    "\n",
    "    print(\"PySpell Correct Answer in Candidates List:\", str(round(dic[name + '_pyspell_cand']/total_words*100,2)) + \"%\")\n",
    "    print(\"SymSpell Correct Answer in Candidates List:\", str(round(dic[name + '_symspell_cand']/total_words*100,2)) + \"%\")\n",
    "    print(\"Phoneme Correct Answer in Candidates List:\", str(round(dic[name + '_phoneme_cand']/total_words*100,2)) + \"%\\n\")\n",
    "\n",
    "    print(\"PySpell Recall (Correct + Correct in Candidates List):\", str(round(dic[name + '_pyspell_comb']/total_words*100,2)) + \"%\")\n",
    "    print(\"SymSpell Recall (Correct + Correct in Candidates List):\", str(round(dic[name + '_symspell_comb']/total_words*100,2)) + \"%\")\n",
    "    print(\"Phoneme Recall (Correct + Correct in Candidates List):\", str(round(dic[name + '_phoneme_comb']/total_words*100,2)) + \"%\")"
   ]
  },
  {
   "cell_type": "code",
   "execution_count": 202,
   "metadata": {},
   "outputs": [],
   "source": [
    "def print_overlap_scores(dict, compare_to):\n",
    "    \n",
    "    compare_to_low = compare_to.lower()\n",
    "    \"\"\"Prints the overlap scores for a given input dict of results\"\"\"\n",
    "    total_corrections = dict['both'] + dict[compare_to_low] + dict['cmu_phonemes']\n",
    "    print(\"Total corrections:\", total_corrections)\n",
    "    print(\"Overlap corrections: \" + \"{:.2f}\".format(dict['both'] / total_corrections*100)+\"%\")\n",
    "    print(\"Unqiue corrections \" + compare_to + \": \" + \"{:.2f}\".format(dict[compare_to_low] / total_corrections*100)+\"%\")\n",
    "    print(\"Unqiue corrections Phoneme method: \" + \"{:.2f}\".format(dict['cmu_phonemes']/\n",
    "                                                                 total_corrections*100)+\"%\")"
   ]
  },
  {
   "cell_type": "markdown",
   "metadata": {},
   "source": [
    "# 2.0 Holbrook Dataset <a name=\"holbrook\"></a>"
   ]
  },
  {
   "cell_type": "code",
   "execution_count": 203,
   "metadata": {},
   "outputs": [],
   "source": [
    "# Load Holbrook Spelling dictionaries\n",
    "file_name_h_pyspell = Path(input_path_files) / \"holbrook_pyspell_dict.txt\"\n",
    "holbrook_pyspell = pickle.load(open(file_name_h_pyspell, \"rb\"))\n",
    "\n",
    "file_name_h_symspell = Path(input_path_files) / \"holbrook_symspell_dict.txt\"\n",
    "holbrook_symspell = pickle.load(open(file_name_h_symspell, \"rb\"))\n",
    "\n",
    "file_name_h_phonemes = Path(input_path_files) / \"holbrook_phonemes_sym.txt\"\n",
    "holbrook_phonemes = pickle.load(open(file_name_h_phonemes, \"rb\"))"
   ]
  },
  {
   "cell_type": "markdown",
   "metadata": {},
   "source": [
    "## 2.1 Holbrook Scores <a name=\"holbrook_scores\"></a>"
   ]
  },
  {
   "cell_type": "code",
   "execution_count": 204,
   "metadata": {
    "scrolled": true
   },
   "outputs": [],
   "source": [
    "# Retrieve number of correct results for each method\n",
    "df_spellcheck_vs_cmu = pd.DataFrame(columns=['Spelling Application', 'Correct', 'Candidates', 'Correct_and_Candidates'])\n",
    "results_data = []\n",
    "results_data.append(score_application('PySpell', holbrook_pyspell))\n",
    "results_data.append(score_application('SymSpell', holbrook_symspell))\n",
    "results_data.append(score_application('Phonemes Method', holbrook_phonemes))\n",
    "df_spellcheck_vs_cmu = df_spellcheck_vs_cmu.append(results_data)"
   ]
  },
  {
   "cell_type": "code",
   "execution_count": 205,
   "metadata": {},
   "outputs": [
    {
     "data": {
      "text/html": [
       "<div>\n",
       "<style scoped>\n",
       "    .dataframe tbody tr th:only-of-type {\n",
       "        vertical-align: middle;\n",
       "    }\n",
       "\n",
       "    .dataframe tbody tr th {\n",
       "        vertical-align: top;\n",
       "    }\n",
       "\n",
       "    .dataframe thead th {\n",
       "        text-align: right;\n",
       "    }\n",
       "</style>\n",
       "<table border=\"1\" class=\"dataframe\">\n",
       "  <thead>\n",
       "    <tr style=\"text-align: right;\">\n",
       "      <th></th>\n",
       "      <th>Spelling Application</th>\n",
       "      <th>Correct</th>\n",
       "      <th>Candidates</th>\n",
       "      <th>Correct_and_Candidates</th>\n",
       "    </tr>\n",
       "  </thead>\n",
       "  <tbody>\n",
       "    <tr>\n",
       "      <th>0</th>\n",
       "      <td>PySpell</td>\n",
       "      <td>448</td>\n",
       "      <td>185</td>\n",
       "      <td>633</td>\n",
       "    </tr>\n",
       "    <tr>\n",
       "      <th>1</th>\n",
       "      <td>SymSpell</td>\n",
       "      <td>437</td>\n",
       "      <td>243</td>\n",
       "      <td>680</td>\n",
       "    </tr>\n",
       "    <tr>\n",
       "      <th>2</th>\n",
       "      <td>Phonemes Method</td>\n",
       "      <td>395</td>\n",
       "      <td>247</td>\n",
       "      <td>642</td>\n",
       "    </tr>\n",
       "  </tbody>\n",
       "</table>\n",
       "</div>"
      ],
      "text/plain": [
       "  Spelling Application Correct Candidates Correct_and_Candidates\n",
       "0              PySpell     448        185                    633\n",
       "1             SymSpell     437        243                    680\n",
       "2      Phonemes Method     395        247                    642"
      ]
     },
     "execution_count": 205,
     "metadata": {},
     "output_type": "execute_result"
    }
   ],
   "source": [
    "df_spellcheck_vs_cmu"
   ]
  },
  {
   "cell_type": "code",
   "execution_count": 206,
   "metadata": {},
   "outputs": [],
   "source": [
    "holbrook_total_words = len(holbrook_pyspell)"
   ]
  },
  {
   "cell_type": "code",
   "execution_count": 207,
   "metadata": {},
   "outputs": [
    {
     "name": "stdout",
     "output_type": "stream",
     "text": [
      "PySpell Accuracy: 28.68%\n",
      "SymSpell Accuracy: 27.98%\n",
      "Phoneme Accuracy: 25.29%\n",
      "\n",
      "PySpell Correct Answer in Candidates List: 11.84%\n",
      "SymSpell Correct Answer in Candidates List: 15.56%\n",
      "Phoneme Correct Answer in Candidates List: 15.81%\n",
      "\n",
      "PySpell Recall (Correct + Correct in Candidates List): 40.52%\n",
      "SymSpell Recall (Correct + Correct in Candidates List): 43.53%\n",
      "Phoneme Recall (Correct + Correct in Candidates List): 41.1%\n"
     ]
    }
   ],
   "source": [
    "scores = assign_scores(df_spellcheck_vs_cmu, 'holbrook')\n",
    "print_scores(scores, 'holbrook', holbrook_total_words)"
   ]
  },
  {
   "cell_type": "markdown",
   "metadata": {},
   "source": [
    "## 2.2 Holbrook Overlap - PySpell vs Phonemes Method (Phoneme Correction with frequency dictionary) \n",
    "<a name=\"holbrook_overlap_pyspell_cmu\"></a>"
   ]
  },
  {
   "cell_type": "code",
   "execution_count": 208,
   "metadata": {},
   "outputs": [],
   "source": [
    "overlap_holbrook_py_cmu = overlap(holbrook_pyspell, holbrook_phonemes, 'pyspell', 'cmu_phonemes',\n",
    "                           'holbrook', 'pyspell_cmu_phonemes')"
   ]
  },
  {
   "cell_type": "code",
   "execution_count": 209,
   "metadata": {},
   "outputs": [
    {
     "data": {
      "text/plain": [
       "{'both': 198, 'pyspell': 250, 'cmu_phonemes': 197}"
      ]
     },
     "execution_count": 209,
     "metadata": {},
     "output_type": "execute_result"
    }
   ],
   "source": [
    "overlap_holbrook_py_cmu"
   ]
  },
  {
   "cell_type": "markdown",
   "metadata": {},
   "source": [
    "#### Version 2 Results - Improved Implementation"
   ]
  },
  {
   "cell_type": "code",
   "execution_count": 210,
   "metadata": {},
   "outputs": [
    {
     "data": {
      "image/png": "[encoded data removed]",
      "text/plain": [
       "<Figure size 900x720 with 1 Axes>"
      ]
     },
     "metadata": {},
     "output_type": "display_data"
    }
   ],
   "source": [
    "plt.figure(linewidth=5,  facecolor=\"white\", figsize=(15,12), dpi=60)\n",
    "venn2(subsets=(overlap_holbrook_py_cmu['pyspell'],overlap_holbrook_py_cmu['cmu_phonemes'],\n",
    "               overlap_holbrook_py_cmu['both']),set_labels=('','',''))\n",
    "plt.legend(labels=['Python SpellChecker', 'Phonemes Method','Common'])\n",
    "plt.title('Holbrook Dataset Corrections - Python SpellChecker vs Phonemes Method')\n",
    "plt.show()"
   ]
  },
  {
   "cell_type": "code",
   "execution_count": 211,
   "metadata": {},
   "outputs": [
    {
     "name": "stdout",
     "output_type": "stream",
     "text": [
      "\u001b[1mHolbrook Overlap PySpell vs CMU Method \n",
      "\u001b[0m\n",
      "Total corrections: 645\n",
      "Overlap corrections: 30.70%\n",
      "Unqiue corrections PySpell: 38.76%\n",
      "Unqiue corrections Phoneme method: 30.54%\n"
     ]
    }
   ],
   "source": [
    "print(color.BOLD + \"Holbrook Overlap PySpell vs CMU Method \\n\" + color.END)\n",
    "print_overlap_scores(overlap_holbrook_py_cmu, 'PySpell')"
   ]
  },
  {
   "cell_type": "markdown",
   "metadata": {},
   "source": [
    "#### Version 1 Results - Elsa's Initial Implementation"
   ]
  },
  {
   "cell_type": "code",
   "execution_count": 212,
   "metadata": {},
   "outputs": [
    {
     "data": {
      "image/png": "[encoded data removed]",
      "text/plain": [
       "<Figure size 900x720 with 1 Axes>"
      ]
     },
     "metadata": {},
     "output_type": "display_data"
    }
   ],
   "source": [
    "plt.figure(linewidth=5, facecolor=\"white\", figsize=(15,12), dpi=60)\n",
    "venn2(subsets=(404,55,15), set_labels=('','',''))\n",
    "plt.legend(labels=['SpellChecker', 'Phonemes Method','Common'])\n",
    "plt.title('Holbrook Dataset Corrections V1 - Python SpellChecker vs Phonemes Method')\n",
    "plt.show()"
   ]
  },
  {
   "cell_type": "markdown",
   "metadata": {},
   "source": [
    "## 2.3 Holbrook Overlap - SymSpell vs Phonemes Method (Phoneme Correction with frequency dictionary)\n",
    "<a name=\"holbrook_overlap_symspell_cmu\"></a>"
   ]
  },
  {
   "cell_type": "code",
   "execution_count": 213,
   "metadata": {},
   "outputs": [],
   "source": [
    "overlap_holbrook_sym_cmu = overlap(holbrook_symspell, holbrook_phonemes, 'symspell', 'cmu_phonemes', \n",
    "                                   'holbrook','symspell_cmu_phonemes')"
   ]
  },
  {
   "cell_type": "code",
   "execution_count": 214,
   "metadata": {},
   "outputs": [
    {
     "data": {
      "text/plain": [
       "{'both': 193, 'symspell': 244, 'cmu_phonemes': 202}"
      ]
     },
     "execution_count": 214,
     "metadata": {},
     "output_type": "execute_result"
    }
   ],
   "source": [
    "overlap_holbrook_sym_cmu"
   ]
  },
  {
   "cell_type": "markdown",
   "metadata": {},
   "source": [
    "#### Version 1 Results - No previous use of SymSpell"
   ]
  },
  {
   "cell_type": "code",
   "execution_count": 215,
   "metadata": {},
   "outputs": [
    {
     "data": {
      "image/png": "[encoded data removed]",
      "text/plain": [
       "<Figure size 900x720 with 1 Axes>"
      ]
     },
     "metadata": {},
     "output_type": "display_data"
    }
   ],
   "source": [
    "plt.figure(linewidth=5,  facecolor=\"white\", figsize=(15,12), dpi=60)\n",
    "venn2(subsets=(overlap_holbrook_sym_cmu['symspell'],overlap_holbrook_sym_cmu['cmu_phonemes'],\n",
    "               overlap_holbrook_sym_cmu['both']),set_labels=('','',''))\n",
    "plt.legend(labels=['SymSpell', 'Phonemes Method','Common'])\n",
    "plt.title('Holbrook Dataset Corrections - SymSpell vs Phonemes Method')\n",
    "plt.show()"
   ]
  },
  {
   "cell_type": "code",
   "execution_count": 216,
   "metadata": {},
   "outputs": [
    {
     "name": "stdout",
     "output_type": "stream",
     "text": [
      "\u001b[1mHolbrook Overlap SymSpell vs CMU Method \n",
      "\u001b[0m\n",
      "Total corrections: 639\n",
      "Overlap corrections: 30.20%\n",
      "Unqiue corrections SymSpell: 38.18%\n",
      "Unqiue corrections Phoneme method: 31.61%\n"
     ]
    }
   ],
   "source": [
    "print(color.BOLD + \"Holbrook Overlap SymSpell vs CMU Method \\n\" + color.END)\n",
    "print_overlap_scores(overlap_holbrook_sym_cmu, 'SymSpell')"
   ]
  },
  {
   "cell_type": "markdown",
   "metadata": {},
   "source": [
    "## 3.0 Birckbeck Dataset <a name=\"birkbeck\"></a>"
   ]
  },
  {
   "cell_type": "code",
   "execution_count": null,
   "metadata": {},
   "outputs": [],
   "source": [
    "# Load Birkbeck Spelling dictionaries\n",
    "file_name_b_pyspell = Path(input_path_files) / \"birkbeck_pyspell_dict.txt\"\n",
    "birkbeck_pyspell = pickle.load(open(file_name_b_pyspell, \"rb\"))\n",
    "\n",
    "file_name_b_symspell = Path(input_path_files) / \"birkbeck_symspell_dict.txt\"\n",
    "birkbeck_symspell = pickle.load(open(file_name_b_symspell, \"rb\"))\n",
    "\n",
    "file_name_b_phonemes = Path(input_path_files) / \"birkbeck_phonemes_sym.txt\"\n",
    "birkbeck_phonemes = pickle.load(open(file_name_b_phonemes, \"rb\"))"
   ]
  },
  {
   "cell_type": "markdown",
   "metadata": {},
   "source": [
    "## 3.1 Birkbeck Scores <a name=\"birkbeck_scores\"></a>"
   ]
  },
  {
   "cell_type": "code",
   "execution_count": null,
   "metadata": {},
   "outputs": [],
   "source": [
    "df_spellcheck_vs_cmu = pd.DataFrame(columns=['Spelling Application', 'Correct', 'Candidates', 'Correct_and_Candidates'])\n",
    "results_data = []\n",
    "results_data.append(score_application('PySpell', birkbeck_pyspell))\n",
    "results_data.append(score_application('SymSpell', birkbeck_symspell))\n",
    "results_data.append(score_application('Phonemes Method', birkbeck_phonemes))\n",
    "df_spellcheck_vs_cmu = df_spellcheck_vs_cmu.append(results_data)"
   ]
  },
  {
   "cell_type": "code",
   "execution_count": null,
   "metadata": {
    "scrolled": true
   },
   "outputs": [],
   "source": [
    "df_spellcheck_vs_cmu"
   ]
  },
  {
   "cell_type": "code",
   "execution_count": null,
   "metadata": {},
   "outputs": [],
   "source": [
    "birkbeck_total_words = len(birkbeck_pyspell)"
   ]
  },
  {
   "cell_type": "code",
   "execution_count": null,
   "metadata": {},
   "outputs": [],
   "source": [
    "scores = assign_scores(df_spellcheck_vs_cmu, 'birkbeck')\n",
    "print_scores(scores, 'birkbeck', birkbeck_total_words)"
   ]
  },
  {
   "cell_type": "markdown",
   "metadata": {},
   "source": [
    "## 3.2 Birkbeck Overlap - PySpell vs Phonemes Method (Phoneme Correction with frequency dictionary)\n",
    "<a name=\"birkbeck_overlap_pyspell\"></a>"
   ]
  },
  {
   "cell_type": "code",
   "execution_count": null,
   "metadata": {},
   "outputs": [],
   "source": [
    "birkbeck_overlap_py_cmu = overlap(birkbeck_pyspell, birkbeck_phonemes, 'pyspell', 'cmu_phonemes',\n",
    "                                  'birkbeck', 'pyspell_cmu_phonemes')"
   ]
  },
  {
   "cell_type": "code",
   "execution_count": null,
   "metadata": {},
   "outputs": [],
   "source": [
    "birkbeck_overlap_py_cmu"
   ]
  },
  {
   "cell_type": "code",
   "execution_count": null,
   "metadata": {},
   "outputs": [],
   "source": [
    "plt.figure(linewidth=5, facecolor=\"white\", figsize=(15,12), dpi=60)\n",
    "venn2(subsets=(birkbeck_overlap_py_cmu['pyspell'],birkbeck_overlap_py_cmu['cmu_phonemes'],\n",
    "               birkbeck_overlap_py_cmu['both']), set_labels=('','',''))\n",
    "plt.legend(labels=['Python SpellChecker', 'Phonemes Method','Common'])\n",
    "plt.title('Birkbeck Dataset Corrections - Python SpellChecker vs Phonemes Method')\n",
    "plt.show()"
   ]
  },
  {
   "cell_type": "code",
   "execution_count": null,
   "metadata": {},
   "outputs": [],
   "source": [
    "print(color.BOLD + \"Birkbeck Overlap PySpell vs CMU Method \\n\" + color.END)\n",
    "print_overlap_scores(birkbeck_overlap_py_cmu, 'PySpell')"
   ]
  },
  {
   "cell_type": "markdown",
   "metadata": {},
   "source": [
    "#### Version 1 Results - Elsa's Initial Implementation"
   ]
  },
  {
   "cell_type": "code",
   "execution_count": null,
   "metadata": {},
   "outputs": [],
   "source": [
    "plt.figure(linewidth=5, facecolor=\"white\", figsize=(15,12), dpi=60)\n",
    "venn2(subsets=(7037,36,2154), set_labels=('','',''))\n",
    "plt.legend(labels=['SymSpell', 'Phonemes Method','Common'])\n",
    "plt.title('Birkbeck Dataset Corrections V1 - Python SpellChecker vs Phonemes Method')\n",
    "plt.show()"
   ]
  },
  {
   "cell_type": "markdown",
   "metadata": {},
   "source": [
    "## 3.3 Birkbeck Overlap - SymSpell vs Phonemes Method (Phoneme Correction with frequency dictionary)\n",
    "<a name=\"birkbeck_overlap_symspell\"></a>"
   ]
  },
  {
   "cell_type": "code",
   "execution_count": null,
   "metadata": {},
   "outputs": [],
   "source": [
    "overlap_birkbeck_sym = overlap(birkbeck_symspell, birkbeck_phonemes, 'symspell', 'cmu_phonemes', \n",
    "                               'birkbeck', 'symspell_cmu_phonemes')"
   ]
  },
  {
   "cell_type": "code",
   "execution_count": null,
   "metadata": {},
   "outputs": [],
   "source": [
    "overlap_birkbeck_sym"
   ]
  },
  {
   "cell_type": "code",
   "execution_count": null,
   "metadata": {},
   "outputs": [],
   "source": [
    "plt.figure(linewidth=5,  facecolor=\"white\", figsize=(15,12), dpi=60)\n",
    "venn2(subsets=(overlap_birkbeck_sym['symspell'],overlap_birkbeck_sym['cmu_phonemes'],\n",
    "               overlap_birkbeck_sym['both']), set_labels=('','',''))\n",
    "plt.legend(labels=['SymSpell', 'Phonemes Method','Common'])\n",
    "plt.title('Birkbeck Dataset Corrections - SymSpell vs Phonemes Method')\n",
    "plt.show()"
   ]
  },
  {
   "cell_type": "code",
   "execution_count": null,
   "metadata": {},
   "outputs": [],
   "source": [
    "print(color.BOLD + \"Birkbeck Overlap SymSpell vs CMU Method \\n\" + color.END)\n",
    "print_overlap_scores(overlap_birkbeck_sym, 'SymSpell')"
   ]
  },
  {
   "cell_type": "markdown",
   "metadata": {},
   "source": [
    "# 4.0 Zeeko Dataset <a name=\"zeeko\"></a>"
   ]
  },
  {
   "cell_type": "code",
   "execution_count": null,
   "metadata": {},
   "outputs": [],
   "source": [
    "# Load Zeeko Spelling dictionaries\n",
    "file_name_z_pyspell = Path(input_path_files) / \"zeeko_pyspell_dict.txt\"\n",
    "zeeko_pyspell = pickle.load(open(file_name_z_pyspell, \"rb\"))\n",
    "\n",
    "file_name_z_symspell = Path(input_path_files) / \"zeeko_symspell_dict.txt\"\n",
    "zeeko_symspell = pickle.load(open(file_name_z_symspell, \"rb\"))\n",
    "\n",
    "file_name_z_phonemes = Path(input_path_files) / \"zeeko_phonemes_sym.txt\"\n",
    "zeeko_phonemes = pickle.load(open(file_name_z_phonemes, \"rb\"))"
   ]
  },
  {
   "cell_type": "markdown",
   "metadata": {},
   "source": [
    "## 4.1 Zeeko Scores <a name=\"zeeko_scores\"></a>"
   ]
  },
  {
   "cell_type": "code",
   "execution_count": null,
   "metadata": {},
   "outputs": [],
   "source": [
    "df_spellcheck_vs_cmu = pd.DataFrame(columns=['Spelling Application', 'Correct', 'Candidates', 'Correct_and_Candidates'])\n",
    "results_data = []\n",
    "results_data.append(score_application('PySpell', zeeko_pyspell))\n",
    "results_data.append(score_application('SymSpell', zeeko_symspell))\n",
    "results_data.append(score_application('Phonemes Method', zeeko_phonemes))\n",
    "df_spellcheck_vs_cmu = df_spellcheck_vs_cmu.append(results_data)"
   ]
  },
  {
   "cell_type": "code",
   "execution_count": null,
   "metadata": {},
   "outputs": [],
   "source": [
    "df_spellcheck_vs_cmu"
   ]
  },
  {
   "cell_type": "code",
   "execution_count": null,
   "metadata": {},
   "outputs": [],
   "source": [
    "zeeko_total_words = len(zeeko_symspell)"
   ]
  },
  {
   "cell_type": "code",
   "execution_count": null,
   "metadata": {},
   "outputs": [],
   "source": [
    "scores = assign_scores(df_spellcheck_vs_cmu, 'zeeko')\n",
    "print_scores(scores, 'zeeko', zeeko_total_words)"
   ]
  },
  {
   "cell_type": "markdown",
   "metadata": {},
   "source": [
    "## 4.2 Zeeko Overlap - PySpell vs Phonemes Method (Phoneme Correction with frequency dictionary)\n",
    "<a name=\"zeeko_overlap_pyspell\"></a>"
   ]
  },
  {
   "cell_type": "code",
   "execution_count": null,
   "metadata": {},
   "outputs": [],
   "source": [
    "path = \"../data_analysis/results/zeeko/symspell_cmu_phonemes/all_cmu_corrections.csv\"\n",
    "path = Path(path)\n",
    "df_zeeko = pd.read_csv(path)\n",
    "temp_correct = df_zeeko['suggested'].tolist()"
   ]
  },
  {
   "cell_type": "code",
   "execution_count": null,
   "metadata": {},
   "outputs": [],
   "source": [
    "overlap_zeeko_py = overlap(zeeko_pyspell, zeeko_phonemes, 'pyspell', 'cmu_phonemes', 'zeeko', \n",
    "                           'pyspell_cmu_phonemes')"
   ]
  },
  {
   "cell_type": "code",
   "execution_count": null,
   "metadata": {},
   "outputs": [],
   "source": [
    "overlap_zeeko_py"
   ]
  },
  {
   "cell_type": "code",
   "execution_count": null,
   "metadata": {},
   "outputs": [],
   "source": [
    "plt.figure(linewidth=5, facecolor=\"white\", figsize=(15,12), dpi=60)\n",
    "venn2(subsets=(overlap_zeeko_py['pyspell'],overlap_zeeko_py['cmu_phonemes'],overlap_zeeko_py['both']), \n",
    "      set_labels=('','',''))\n",
    "plt.legend(labels=['Python SpellChecker', 'Phonemes Method','Common'])\n",
    "plt.title('Zeeko Dataset Corrections - Python SpellChecker vs Phonemes Method')\n",
    "plt.show()"
   ]
  },
  {
   "cell_type": "code",
   "execution_count": null,
   "metadata": {},
   "outputs": [],
   "source": [
    "print(color.BOLD + \"Zeeko Overlap PySpell vs CMU Method \\n\" + color.END)\n",
    "print_overlap_scores(overlap_zeeko_py, 'PySpell')"
   ]
  },
  {
   "cell_type": "markdown",
   "metadata": {},
   "source": [
    "## 4.3 Zeeko Overlap - SymSpell vs Phonemes Method (Phoneme Correction with frequency dictionary)\n",
    "<a name=\"zeeko_overlap_symspell\"></a>"
   ]
  },
  {
   "cell_type": "code",
   "execution_count": null,
   "metadata": {},
   "outputs": [],
   "source": [
    "overlap_zeeko_sym = overlap(zeeko_symspell, zeeko_phonemes, 'symspell', 'cmu_phonemes', 'zeeko',\n",
    "                            'symspell_cmu_phonemes')"
   ]
  },
  {
   "cell_type": "code",
   "execution_count": null,
   "metadata": {},
   "outputs": [],
   "source": [
    "overlap_zeeko_sym"
   ]
  },
  {
   "cell_type": "code",
   "execution_count": null,
   "metadata": {},
   "outputs": [],
   "source": [
    "plt.figure(linewidth=5,  facecolor=\"white\", figsize=(15,12), dpi=60)\n",
    "venn2(subsets=(overlap_zeeko_sym['symspell'],overlap_zeeko_sym['cmu_phonemes'],overlap_zeeko_sym['both']), \n",
    "      set_labels=('','',''))\n",
    "plt.legend(labels=['SymSpell', 'Phonemes Method','Common'])\n",
    "plt.title('Zeeko Dataset Corrections - SymSpell vs Phonemes Method')\n",
    "plt.show()"
   ]
  },
  {
   "cell_type": "code",
   "execution_count": null,
   "metadata": {},
   "outputs": [],
   "source": [
    "print(color.BOLD + \"Zeeko Overlap SymSpell vs CMU Method \\n\" + color.END)\n",
    "print_overlap_scores(overlap_zeeko_sym, 'SymSpell')"
   ]
  },
  {
   "cell_type": "code",
   "execution_count": null,
   "metadata": {},
   "outputs": [],
   "source": [
    "overlap_zeeko_sym = overlap(zeeko_symspell, zeeko_phonemes, 'symspell', 'cmu_phonemes', 'zeeko', \n",
    "                           'symspell_cmu_phonemes')"
   ]
  },
  {
   "cell_type": "code",
   "execution_count": null,
   "metadata": {},
   "outputs": [],
   "source": [
    "overlap_zeeko_sym"
   ]
  },
  {
   "cell_type": "code",
   "execution_count": null,
   "metadata": {},
   "outputs": [],
   "source": [
    "plt.figure(linewidth=5,  facecolor=\"white\", figsize=(15,12), dpi=60)\n",
    "venn2(subsets=(overlap_zeeko_sym['symspell'],overlap_zeeko_sym['cmu_phonemes'],overlap_zeeko_sym['both']), \n",
    "      set_labels=('','',''))\n",
    "plt.legend(labels=['SymSpell', 'CMU Phonemes 0.5','Common'])\n",
    "plt.title('Zeeko Dataset Corrections - SymSpell vs CMU Phonemes 0.5')\n",
    "plt.show()"
   ]
  },
  {
   "cell_type": "markdown",
   "metadata": {},
   "source": [
    "# 5.0 Aspell Dataset <a name=\"aspell\"></a>"
   ]
  },
  {
   "cell_type": "code",
   "execution_count": null,
   "metadata": {},
   "outputs": [],
   "source": [
    "# Load aspell Spelling dictionaries\n",
    "file_name_a_pyspell = Path(input_path_files) / \"aspell_pyspell_dict.txt\"\n",
    "aspell_pyspell = pickle.load(open(file_name_a_pyspell, \"rb\"))\n",
    "\n",
    "file_name_a_symspell = Path(input_path_files) / \"aspell_symspell_dict.txt\"\n",
    "aspell_symspell = pickle.load(open(file_name_a_symspell, \"rb\"))\n",
    "\n",
    "file_name_a_phonemes = Path(input_path_files) / \"aspell_phonemes_sym.txt\"\n",
    "aspell_phonemes = pickle.load(open(file_name_a_phonemes, \"rb\"))"
   ]
  },
  {
   "cell_type": "markdown",
   "metadata": {},
   "source": [
    "## 5.1 Aspell Scores <a name=\"aspell_scores\"></a>"
   ]
  },
  {
   "cell_type": "code",
   "execution_count": null,
   "metadata": {},
   "outputs": [],
   "source": [
    "df_spellcheck_vs_cmu = pd.DataFrame(columns=['Spelling Application', 'Correct', 'Candidates', 'Correct_and_Candidates'])\n",
    "results_data = []\n",
    "results_data.append(score_application('PySpell', aspell_pyspell))\n",
    "results_data.append(score_application('SymSpell', aspell_symspell))\n",
    "results_data.append(score_application('Phonemes Method', aspell_phonemes))\n",
    "df_spellcheck_vs_cmu = df_spellcheck_vs_cmu.append(results_data)"
   ]
  },
  {
   "cell_type": "code",
   "execution_count": null,
   "metadata": {},
   "outputs": [],
   "source": [
    "df_spellcheck_vs_cmu"
   ]
  },
  {
   "cell_type": "code",
   "execution_count": null,
   "metadata": {},
   "outputs": [],
   "source": [
    "aspell_total_words = len(aspell_phonemes)"
   ]
  },
  {
   "cell_type": "code",
   "execution_count": null,
   "metadata": {},
   "outputs": [],
   "source": [
    "scores = assign_scores(df_spellcheck_vs_cmu, 'aspell')\n",
    "print_scores(scores, 'aspell', aspell_total_words)"
   ]
  },
  {
   "cell_type": "markdown",
   "metadata": {},
   "source": [
    "## 5.2 Aspell Overlap - PySpell vs Phonemes Method (Phoneme Correction with frequency dictionary)\n",
    "<a name=\"aspell_overlap_pyspell_cmu\"></a>"
   ]
  },
  {
   "cell_type": "code",
   "execution_count": null,
   "metadata": {},
   "outputs": [],
   "source": [
    "overlap_aspell_py = overlap(aspell_pyspell, aspell_phonemes, 'pyspell', 'cmu_phonemes', 'aspell',\n",
    "                            'pyspell_cmu_phonemes')"
   ]
  },
  {
   "cell_type": "code",
   "execution_count": null,
   "metadata": {},
   "outputs": [],
   "source": [
    "overlap_aspell_py"
   ]
  },
  {
   "cell_type": "code",
   "execution_count": null,
   "metadata": {},
   "outputs": [],
   "source": [
    "plt.figure(linewidth=5,  facecolor=\"white\", figsize=(15,12), dpi=60)\n",
    "venn2(subsets=(overlap_aspell_py['pyspell'],overlap_aspell_py['cmu_phonemes'],\n",
    "               overlap_aspell_py['both']), set_labels=('','',''))\n",
    "plt.legend(labels=['Python SpellChecker', 'Phonemes Method','Common'])\n",
    "plt.title('GNU Aspell Dataset Corrections - Python SpellChecker vs Phonemes Method')\n",
    "plt.show()"
   ]
  },
  {
   "cell_type": "code",
   "execution_count": null,
   "metadata": {},
   "outputs": [],
   "source": [
    "print(color.BOLD + \"Aspell Overlap PySpell vs CMU Method \\n\" + color.END)\n",
    "print_overlap_scores(overlap_aspell_py, 'PySpell')"
   ]
  },
  {
   "cell_type": "markdown",
   "metadata": {},
   "source": [
    "## 5.3 Aspell Overlap - SymSpell vs Phonemes Method (Phoneme Correction with frequency dictionary)\n",
    "<a name=\"aspell_overlap_symspell_cmu\"></a>"
   ]
  },
  {
   "cell_type": "code",
   "execution_count": null,
   "metadata": {},
   "outputs": [],
   "source": [
    "overlap_aspell_sym = overlap(aspell_symspell, aspell_phonemes, 'symspell', 'cmu_phonemes', 'aspell', \n",
    "                             'symspell_cmu_phonemes')"
   ]
  },
  {
   "cell_type": "code",
   "execution_count": null,
   "metadata": {},
   "outputs": [],
   "source": [
    "overlap_aspell_sym"
   ]
  },
  {
   "cell_type": "code",
   "execution_count": null,
   "metadata": {},
   "outputs": [],
   "source": [
    "plt.figure(linewidth=5,  facecolor=\"white\", figsize=(15,12), dpi=60)\n",
    "venn2(subsets=(overlap_aspell_sym['symspell'],overlap_aspell_sym['cmu_phonemes'],overlap_aspell_sym['both']),\n",
    "      set_labels=('','',''))\n",
    "plt.legend(labels=['SymSpell', 'Phonemes Method','Common'])\n",
    "plt.title('GNU Aspell Dataset Corrections - SymSpell vs Phonemes Method')\n",
    "plt.show()"
   ]
  },
  {
   "cell_type": "code",
   "execution_count": null,
   "metadata": {},
   "outputs": [],
   "source": [
    "print(color.BOLD + \"Aspell Overlap SymSpell vs CMU Method \\n\" + color.END)\n",
    "print_overlap_scores(overlap_aspell_sym, 'SymSpell')"
   ]
  },
  {
   "cell_type": "markdown",
   "metadata": {},
   "source": [
    "# 6.0 Wikipedia Dataset <a name=\"wiki\"><a/>"
   ]
  },
  {
   "cell_type": "code",
   "execution_count": null,
   "metadata": {},
   "outputs": [],
   "source": [
    "# Load wiki Spelling dictionaries\n",
    "file_name_w_pyspell = Path(input_path_files) / \"wiki_pyspell_dict.txt\"\n",
    "wiki_pyspell = pickle.load(open(file_name_w_pyspell, \"rb\"))\n",
    "\n",
    "file_name_w_symspell = Path(input_path_files) / \"wiki_symspell_dict.txt\"\n",
    "wiki_symspell = pickle.load(open(file_name_w_symspell, \"rb\"))\n",
    "\n",
    "file_name_w_phonemes = Path(input_path_files) / \"wiki_phonemes_sym.txt\"\n",
    "wiki_phonemes = pickle.load(open(file_name_w_phonemes, \"rb\"))"
   ]
  },
  {
   "cell_type": "markdown",
   "metadata": {},
   "source": [
    "## 6.1 Wikipedia Scores <a name=\"wiki_scores\"></a>"
   ]
  },
  {
   "cell_type": "code",
   "execution_count": null,
   "metadata": {},
   "outputs": [],
   "source": [
    "df_spellcheck_vs_cmu = pd.DataFrame(columns=['Spelling Application', 'Correct', 'Candidates', 'Correct_and_Candidates'])\n",
    "results_data = []\n",
    "results_data.append(score_application('PySpell', wiki_pyspell))\n",
    "results_data.append(score_application('SymSpell', wiki_symspell))\n",
    "results_data.append(score_application('Phonemes Method', wiki_phonemes))\n",
    "df_spellcheck_vs_cmu = df_spellcheck_vs_cmu.append(results_data)"
   ]
  },
  {
   "cell_type": "code",
   "execution_count": null,
   "metadata": {
    "scrolled": true
   },
   "outputs": [],
   "source": [
    "df_spellcheck_vs_cmu"
   ]
  },
  {
   "cell_type": "code",
   "execution_count": null,
   "metadata": {},
   "outputs": [],
   "source": [
    "wiki_total_words = len(wiki_phonemes)"
   ]
  },
  {
   "cell_type": "code",
   "execution_count": null,
   "metadata": {},
   "outputs": [],
   "source": [
    "scores = assign_scores(df_spellcheck_vs_cmu, 'wiki')\n",
    "print_scores(scores, 'wiki', wiki_total_words)"
   ]
  },
  {
   "cell_type": "markdown",
   "metadata": {},
   "source": [
    "## 6.2 Wikipedia Overlap - PySpell vs Phonemes Method (Phoneme Correction with frequency dictionary)\n",
    "<a name=\"wiki_overlap_pyspell\"></a>"
   ]
  },
  {
   "cell_type": "code",
   "execution_count": null,
   "metadata": {},
   "outputs": [],
   "source": [
    "overlap_wiki_py = overlap(wiki_pyspell, wiki_phonemes, 'pyspell', 'cmu_phonemes', 'wiki', \n",
    "                          'pyspell_cmu_phonemes')"
   ]
  },
  {
   "cell_type": "code",
   "execution_count": null,
   "metadata": {},
   "outputs": [],
   "source": [
    "overlap_wiki_py"
   ]
  },
  {
   "cell_type": "code",
   "execution_count": null,
   "metadata": {},
   "outputs": [],
   "source": [
    "plt.figure(linewidth=5, facecolor=\"white\", figsize=(15,12), dpi=60)\n",
    "venn2(subsets=(overlap_wiki_py['pyspell'],overlap_wiki_py['cmu_phonemes'],overlap_wiki_py['both']), set_labels=('','',''))\n",
    "plt.legend(labels=['Python SpellChecker', 'Phonemes Method','Common'])\n",
    "plt.title('Wikipedia Dataset Corrections - Python SpellChecker vs Phonemes Method')\n",
    "plt.show()"
   ]
  },
  {
   "cell_type": "code",
   "execution_count": null,
   "metadata": {},
   "outputs": [],
   "source": [
    "print(color.BOLD + \"Wikipedia Overlap PySpell vs CMU Method \\n\" + color.END)\n",
    "print_overlap_scores(overlap_wiki_py, 'PySpell')"
   ]
  },
  {
   "cell_type": "markdown",
   "metadata": {},
   "source": [
    "## 6.3 Wikipedia Overlap - SymSpell vs Phonemes Method (Phoneme Correction with frequency dictionary)\n",
    "<a name=\"wike_overlap_symspell\"></a>"
   ]
  },
  {
   "cell_type": "code",
   "execution_count": null,
   "metadata": {},
   "outputs": [],
   "source": [
    "overlap_wiki_sym = overlap(wiki_symspell, wiki_phonemes, 'symspell', 'cmu_phonemes', 'wiki', \n",
    "                           'symspell_cmu_phonemes')"
   ]
  },
  {
   "cell_type": "code",
   "execution_count": null,
   "metadata": {},
   "outputs": [],
   "source": [
    "overlap_wiki_sym"
   ]
  },
  {
   "cell_type": "code",
   "execution_count": null,
   "metadata": {},
   "outputs": [],
   "source": [
    "plt.figure(linewidth=5,  facecolor=\"white\", figsize=(15,12), dpi=60)\n",
    "venn2(subsets=(overlap_wiki_sym['symspell'],overlap_wiki_sym['cmu_phonemes'],overlap_wiki_sym['both']), \n",
    "      set_labels=('','',''))\n",
    "plt.legend(labels=['SymSpell', 'Phonemes Method','Common'])\n",
    "plt.title('Wikipedia Dataset Corrections - SymSpell vs Phonemes Method')\n",
    "plt.show()"
   ]
  },
  {
   "cell_type": "code",
   "execution_count": null,
   "metadata": {},
   "outputs": [],
   "source": [
    "print(color.BOLD + \"Aspell Overlap SymSpell vs CMU Method \\n\" + color.END)\n",
    "print_overlap_scores(overlap_wiki_sym, 'SymSpell')"
   ]
  },
  {
   "cell_type": "code",
   "execution_count": null,
   "metadata": {},
   "outputs": [],
   "source": []
  }
 ],
 "metadata": {
  "kernelspec": {
   "display_name": "Python 3",
   "language": "python",
   "name": "python3"
  },
  "language_info": {
   "codemirror_mode": {
    "name": "ipython",
    "version": 3
   },
   "file_extension": ".py",
   "mimetype": "text/x-python",
   "name": "python",
   "nbconvert_exporter": "python",
   "pygments_lexer": "ipython3",
   "version": "3.7.6"
  },
  "pycharm": {
   "stem_cell": {
    "cell_type": "raw",
    "metadata": {
     "collapsed": false
    },
    "source": []
   }
  }
 },
 "nbformat": 4,
 "nbformat_minor": 4
}
