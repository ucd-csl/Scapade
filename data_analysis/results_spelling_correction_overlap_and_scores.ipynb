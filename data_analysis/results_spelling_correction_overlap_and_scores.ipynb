{
 "cells": [
  {
   "cell_type": "code",
   "execution_count": 1,
   "metadata": {},
   "outputs": [],
   "source": [
    "import pandas as pd\n",
    "import pickle\n",
    "from pathlib import Path\n",
    "import matplotlib\n",
    "import matplotlib.pyplot as plt\n",
    "plt.rcParams[\"text.usetex\"] = False\n",
    "from matplotlib_venn import venn2, venn2_circles\n",
    "from matplotlib.pyplot import figure\n",
    "import warnings\n",
    "warnings.filterwarnings('ignore')"
   ]
  },
  {
   "cell_type": "code",
   "execution_count": 2,
   "metadata": {},
   "outputs": [],
   "source": [
    "font = {'family' : 'STIXGeneral',\n",
    "        'weight' : 'normal',\n",
    "        'size'   : 60}\n",
    "matplotlib.rc('font', **font)"
   ]
  },
  {
   "cell_type": "code",
   "execution_count": 3,
   "metadata": {},
   "outputs": [],
   "source": [
    "class color:\n",
    "   BOLD = '\\033[1m'\n",
    "   END = '\\033[0m'"
   ]
  },
  {
   "cell_type": "code",
   "execution_count": 4,
   "metadata": {},
   "outputs": [],
   "source": [
    "input_path_files = \"../input_files/spelling_correction_dicts\""
   ]
  },
  {
   "cell_type": "markdown",
   "metadata": {},
   "source": [
    "# Results of Spelling Correction Methods - Scores and Overlap"
   ]
  },
  {
   "cell_type": "markdown",
   "metadata": {},
   "source": [
    "## Table of Contents\n",
    "1. [Introduction](#introduction)<br/>\n",
    "    1.1 [Function Definition](#functions)<br/>\n",
    "2. [Holbrook Dataset](#holbrook)<br/>\n",
    "    2.1 [Holbrook Scores](#holbrook_scores)<br/>\n",
    "    2.2 [Holbrook Overlap - PySpell vs Phonemes Method](#holbrook_overlap_pyspell_cmu)<br/>\n",
    "    2.3 [Holbrook Overlap - SymSpell vs Phonemes Method](#holbrook_overlap_symspell_cmu)<br/>\n",
    "    2.4 [Holbrook Overlap - Aspell vs Phonemes Method](#holbrook_overlap_aspell_cmu)<br/>\n",
    "3. [Birkbeck Dataset](#birkbeck)<br/>\n",
    "    3.1 [Birkbeck Scores](#birkbeck_scores)<br/>\n",
    "    3.2 [Birbeck Overlap - PySpell vs Phonemes Method](#birkbeck_overlap_pyspell)<br/>\n",
    "    3.3 [Birkbeck Overlap - SymSpell vs Phonemes Method](#birkbeck_overlap_symspell)<br/>\n",
    "    3.4 [Birkbeck Overlap - Aspell vs Phonemes Method](#birkbeck_overlap_aspell)<br/>\n",
    "4. [Zeeko Dataset](#zeeko)<br/>\n",
    "    4.1 [Zeeko Scores](#zeeko_scores)<br/>\n",
    "    4.2 [Zeeko Overlap - PySpell vs Phonemes Method](#zeeko_overlap_pyspell)<br/>\n",
    "    4.3 [Zeeko Overlap - SymSpell vs Phonemes Method](#zeeko_overlap_symspell)<br/>\n",
    "    4.4 [Zeeko Overlap - Aspell vs Phonemes Method](#zeeko_overlap_aspell)\n",
    "5. [Aspell Dataset](#aspell)<br/>\n",
    "    5.1 [Aspell Scores](#aspell_scores)<br/>\n",
    "    5.2 [Aspell Overlap - PySpell vs Phonemes Method](#aspell_overlap_pyspell_cmu)<br/>\n",
    "    5.3 [Aspell Overlap - SymSpell vs Phonemes Method](#aspell_overlap_symspell_cmu)<br/>\n",
    "    5.4 [Aspell Overlap - Aspell vs Phonemes Method](#aspell_overlap_aspell_cmu)<br/>\n",
    "6. [Wikipedia Dataset](#wiki)<br/>\n",
    "    6.1 [Wikipedia Scores](#wiki_scores)<br/>\n",
    "    6.2 [Wikipedia Overlap - PySpell vs Phonemes Method](#wiki_overlap_pyspell)<br/>\n",
    "    6.3 [Wikipedia Overlap - SymSpell vs Phonemes Method](#wiki_overlap_symspell)<br/>\n",
    "    6.4 [Wikipedia Overlap - Aspell vs Phonemes Method](#wiki_overlap_aspell)<br/>"
   ]
  },
  {
   "cell_type": "markdown",
   "metadata": {},
   "source": [
    "## 1.0 Introduction <a name=\"introduction\"></a>\n",
    "\n",
    "The purpose of this notebook is to the display the results of the phoneme spelling correction research work carried out. In total, five datasets of spelling mistakes were used for this body of work, they are:\n",
    "\n",
    "1. [Holbrook](https://www.dcs.bbk.ac.uk/~ROGER/holbrook-missp.dat)\n",
    "2. [Birkbeck](https://www.dcs.bbk.ac.uk/~ROGER/missp.dat)\n",
    "3. [Aspell](https://www.dcs.bbk.ac.uk/~ROGER/aspell.dat)\n",
    "4. [Wikipedia](https://www.dcs.bbk.ac.uk/~ROGER/wikipedia.dat)\n",
    "5. [Zeeko]()\n",
    "\n",
    "The first four datasets and their description may be found [here](https://www.dcs.bbk.ac.uk/~ROGER/corpora.html). \n",
    "\n",
    "The last dataset, 'Zeeko', is made up of spelling mistakes written in a free form survey by school children. The surveys in their entirety may be see in [zeeko_surveys](https://github.com/robertyoung2/nlp_phoneme_spelling/tree/master/zeeko_surveys).\n",
    "\n",
    "For each dataset there are three key results included:\n",
    "* Scores: the accuracy of each method on the given dataset (corrections/total_words).\n",
    "* Overlap PySpell - the overlap of the Phoneme correction method vs the [PySpell](https://norvig.com/spell-correct.html) word correction method.\n",
    "* Overlap SymSpell - the overlap of the Phoneme correction method vs the [SymSpell](https://github.com/wolfgarbe/SymSpell) word correction method.\n",
    "* Overlap Aspell - the overlap of the Phoneme correction method vs the [GNU Aspell](http://aspell.net/) word correction method.\n",
    "\n",
    "Overlap shows words corrected by either one, other or both of the methods."
   ]
  },
  {
   "cell_type": "markdown",
   "metadata": {},
   "source": [
    "## 1.1 Function Definition - Overlap and Scores <a name=\"functions\"></a>"
   ]
  },
  {
   "cell_type": "code",
   "execution_count": 5,
   "metadata": {},
   "outputs": [],
   "source": [
    "def overlap(dict_1, dict_2, dict_1_name, dict_2_name, data_name, comparison_name):\n",
    "    \"\"\" \n",
    "    Calculates the 'overlap' between the results of two spelling correction methods on the same dataset\n",
    "    \n",
    "    :param dict_1: first spelling correction python dictionary object to compare.\n",
    "    :param dict_2: second spelling correction python dictionary object to compare.\n",
    "    :param dict_1_name: name of the first python dictionary object eg. 'pyspell'.\n",
    "    :param dict_2_name: name of the second python dictionary object eg. 'cmu_phonemes'.\n",
    "    :param data_name: dataset used eg. 'holbrook'. Used for outputting results to correct directory. \\\n",
    "        Currently used names = ['aspell', 'birkbeck', 'holbrook', 'wiki', 'zeeko']\n",
    "    :param comparison_name: the comparison of the two methods used eg. 'pyspell_cmu_phonemes'. Used to output \\\n",
    "        to the correct sub-dir. Currently used = ['pyspell_cmu_phonemes', 'symspell_cmu_phonemes']\n",
    "    :output: Writes the results to the respect directories and sub-directories.\n",
    "    :return: Returns the values for unique corrections per method, and the overlap between the two.\n",
    "    \n",
    "    Example: overlap(holbrook_pyspell, holbrook_phonemes, 'pyspell', 'cmu_phonemes', 'holbrook', \\\n",
    "    'pyspell_cmu_phonemes')\n",
    "    \"\"\"\n",
    "    path = \"results/\" + data_name + \"/\" + comparison_name + \"/\"\n",
    "    \n",
    "    both_correct_count = 0\n",
    "    dict_1_correct_count = 0\n",
    "    dict_2_correct_count = 0\n",
    "    \n",
    "    both_correct_list = []\n",
    "    dict_1_correct_list = []\n",
    "    dict_2_correct_list = []\n",
    "    \n",
    "    for key in dict_1.keys():\n",
    "        \n",
    "        if dict_1[key]['suggested'] == dict_2[key]['suggested']:\n",
    "            if dict_1[key]['suggested'] == dict_1[key]['correct_spelling']:\n",
    "                both_correct_count +=1\n",
    "                misspelling = key\n",
    "                suggestion = dict_1[key]['correct_spelling']\n",
    "                both_correct_list.append({'Misspelling':misspelling, \n",
    "                                          'Suggestion':suggestion})\n",
    "                \n",
    "        elif dict_1[key]['suggested'] == dict_1[key]['correct_spelling']:\n",
    "            dict_1_correct_count += 1\n",
    "            misspelling = key\n",
    "            suggestion = dict_1[key]['correct_spelling']\n",
    "            dict_1_correct_list.append({'Misspelling':misspelling, \n",
    "                                        'suggestion':suggestion})\n",
    "            \n",
    "            \n",
    "        elif dict_2[key]['suggested'] == dict_2[key]['correct_spelling']:\n",
    "            dict_2_correct_count +=1\n",
    "            misspelling = key\n",
    "            suggestion = dict_2[key]['correct_spelling']\n",
    "            dict_2_correct_list.append({'Misspelling':misspelling, \n",
    "                                        'Suggestion':suggestion})\n",
    "        \n",
    "    df_both = pd.DataFrame(both_correct_list)\n",
    "    df_dict_1 = pd.DataFrame(dict_1_correct_list)\n",
    "    df_dict_2 = pd.DataFrame(dict_2_correct_list)\n",
    "    \n",
    "    df_both.to_csv((path+'both.csv'),index=False)\n",
    "    df_dict_1.to_csv((path+dict_1_name+'.csv'),index=False)\n",
    "    df_dict_2.to_csv((path+dict_2_name+'.csv'),index=False)\n",
    "    \n",
    "    return({'both':both_correct_count, dict_1_name:dict_1_correct_count, \n",
    "            dict_2_name:dict_2_correct_count})"
   ]
  },
  {
   "cell_type": "code",
   "execution_count": 6,
   "metadata": {},
   "outputs": [],
   "source": [
    "def overlap_cand(dict_1, dict_2, dict_1_name, dict_2_name, data_name, comparison_name):\n",
    "    \"\"\" \n",
    "    Calculates the 'overlap' between the results of two spelling correction methods on the same dataset\n",
    "    \n",
    "    :param dict_1: first spelling correction python dictionary object to compare.\n",
    "    :param dict_2: second spelling correction python dictionary object to compare.\n",
    "    :param dict_1_name: name of the first python dictionary object eg. 'pyspell'.\n",
    "    :param dict_2_name: name of the second python dictionary object eg. 'cmu_phonemes'.\n",
    "    :param data_name: dataset used eg. 'holbrook'. Used for outputting results to correct directory. \\\n",
    "        Currently used names = ['aspell', 'birkbeck', 'holbrook', 'wiki', 'zeeko']\n",
    "    :param comparison_name: the comparison of the two methods used eg. 'pyspell_cmu_phonemes'. Used to output \\\n",
    "        to the correct sub-dir. Currently used = ['pyspell_cmu_phonemes', 'symspell_cmu_phonemes']\n",
    "    :output: Writes the results to the respect directories and sub-directories.\n",
    "    :return: Returns the values for unique corrections per method, and the overlap between the two.\n",
    "    \n",
    "    Example: overlap(holbrook_pyspell, holbrook_phonemes, 'pyspell', 'cmu_phonemes', 'holbrook', \\\n",
    "    'pyspell_cmu_phonemes')\n",
    "    \"\"\"\n",
    "    path = \"results/\" + data_name + \"/\" + comparison_name + \"/\"\n",
    "    \n",
    "    both_correct_count = 0\n",
    "    dict_1_correct_count = 0\n",
    "    dict_2_correct_count = 0\n",
    "    \n",
    "    both_correct_list = []\n",
    "    dict_1_correct_list = []\n",
    "    dict_2_correct_list = []\n",
    "    \n",
    "    for key in dict_1.keys():\n",
    "        \n",
    "        target = dict_1[key]['correct_spelling']\n",
    "        \n",
    "        if target in dict_1[key]['candidates'] and target in dict_2[key]['candidates']:\n",
    "            both_correct_count +=1\n",
    "            misspelling = key\n",
    "            suggestion = dict_1[key]['correct_spelling']\n",
    "            both_correct_list.append({'Misspelling':misspelling, \n",
    "                                      'Suggestion':suggestion})\n",
    "                \n",
    "        elif target in dict_1[key]['candidates']:\n",
    "            dict_1_correct_count += 1\n",
    "            misspelling = key\n",
    "            suggestion = dict_1[key]['correct_spelling']\n",
    "            dict_1_correct_list.append({'Misspelling':misspelling, \n",
    "                                        'suggestion':suggestion})\n",
    "            \n",
    "            \n",
    "        elif target in dict_2[key]['candidates']:\n",
    "            dict_2_correct_count +=1\n",
    "            misspelling = key\n",
    "            suggestion = dict_2[key]['correct_spelling']\n",
    "            dict_2_correct_list.append({'Misspelling':misspelling, \n",
    "                                        'Suggestion':suggestion})\n",
    "        \n",
    "    df_both = pd.DataFrame(both_correct_list)\n",
    "    df_dict_1 = pd.DataFrame(dict_1_correct_list)\n",
    "    df_dict_2 = pd.DataFrame(dict_2_correct_list)\n",
    "    \n",
    "    df_both.to_csv((path+'both.csv'),index=False)\n",
    "    df_dict_1.to_csv((path+dict_1_name+'.csv'),index=False)\n",
    "    df_dict_2.to_csv((path+dict_2_name+'.csv'),index=False)\n",
    "    \n",
    "    return({'both':both_correct_count, dict_1_name:dict_1_correct_count, \n",
    "            dict_2_name:dict_2_correct_count})"
   ]
  },
  {
   "cell_type": "code",
   "execution_count": 7,
   "metadata": {},
   "outputs": [],
   "source": [
    "def score_application(name, input_dict):\n",
    "    \"\"\"\n",
    "    Calculates and returns the scores for a given method and results dictionary\n",
    "    :param name: the name of the method as a string eg. 'SymSpell'\n",
    "    :param input_dict: the input dict of spelling corrections to be score eg. \n",
    "    'holbrook_symspell'\n",
    "    :returns: a dictionary of results\n",
    "    \"\"\"\n",
    "    correct = 0\n",
    "    candidates = 0\n",
    "    for misspelling, results in input_dict.items():  \n",
    "        try:\n",
    "            if results['correct_spelling'] == results['suggested']:\n",
    "                correct += 1\n",
    "            elif results['correct_spelling'] in results['candidates']:\n",
    "                candidates += 1\n",
    "        except:\n",
    "            results['suggested'] = ''\n",
    "            results['candidates'] = ''\n",
    "\n",
    "    correct_and_candidates = correct + candidates\n",
    "    \n",
    "    results = {'Spelling Application':name, 'Correct':correct, \n",
    "               'Candidates':candidates, \n",
    "               'Correct_and_Candidates':correct_and_candidates}\n",
    "\n",
    "    return results"
   ]
  },
  {
   "cell_type": "code",
   "execution_count": 8,
   "metadata": {},
   "outputs": [],
   "source": [
    "def assign_scores(df, name):\n",
    "    \"\"\"Function to assign scores for each dataset and method\"\"\"\n",
    "    \n",
    "    dict = {}\n",
    "    \n",
    "    dict[name + '_pyspell_acc'] = int(df[df['Spelling Application'] == 'PySpell']['Correct'])\n",
    "    dict[name + '_symspell_acc'] = int(df[df['Spelling Application'] == 'SymSpell']['Correct'])\n",
    "    dict[name + '_aspell_acc'] = int(df[df['Spelling Application'] == 'Aspell']['Correct'])\n",
    "    dict[name + '_phoneme_acc'] = int(df[df['Spelling Application'] == 'Phonemes Method']['Correct'])\n",
    "\n",
    "    dict[name + '_pyspell_cand'] = int(df[df['Spelling Application'] == 'PySpell']['Candidates'])\n",
    "    dict[name + '_symspell_cand'] = int(df[df['Spelling Application'] == 'SymSpell']['Candidates'])\n",
    "    dict[name + '_aspell_cand'] = int(df[df['Spelling Application'] == 'Aspell']['Candidates'])\n",
    "    dict[name + '_phoneme_cand'] = int(df[df['Spelling Application'] == 'Phonemes Method']['Candidates'])\n",
    "\n",
    "    dict[name + '_pyspell_comb'] = int(df[df['Spelling Application'] == 'PySpell']['Correct_and_Candidates'])\n",
    "    dict[name + '_symspell_comb'] = int(df[df['Spelling Application'] == 'SymSpell']['Correct_and_Candidates'])\n",
    "    dict[name + '_aspell_comb'] = int(df[df['Spelling Application'] == 'Aspell']['Correct_and_Candidates'])\n",
    "    dict[name + '_phoneme_comb'] = int(df[df['Spelling Application'] == 'Phonemes Method']['Correct_and_Candidates'])\n",
    "    \n",
    "    return dict"
   ]
  },
  {
   "cell_type": "code",
   "execution_count": 9,
   "metadata": {},
   "outputs": [],
   "source": [
    "def print_scores(dic, name, total_words):\n",
    "    \"\"\"Function to print scores for each dataset and method\"\"\"\n",
    "    \n",
    "    print(\"PySpell Accuracy:\", str(round(dic[name + '_pyspell_acc']/total_words*100,2)) + \"%\")\n",
    "    print(\"SymSpell Accuracy:\", str(round(dic[name + '_symspell_acc']/total_words*100,2)) + \"%\")\n",
    "    print(\"Aspell Accuracy:\", str(round(dic[name + '_aspell_acc']/total_words*100,2)) + \"%\")\n",
    "    print(\"Phoneme Accuracy:\", str(round(dic[name + '_phoneme_acc']/total_words*100,2)) + \"%\\n\")\n",
    "\n",
    "    print(\"PySpell Correct Answer in Candidates List:\", str(round(dic[name + '_pyspell_cand']/total_words*100,2)) + \"%\")\n",
    "    print(\"SymSpell Correct Answer in Candidates List:\", str(round(dic[name + '_symspell_cand']/total_words*100,2)) + \"%\")\n",
    "    print(\"Aspell Correct Answer in Candidates List:\", str(round(dic[name + '_aspell_cand']/total_words*100,2)) + \"%\")\n",
    "    print(\"Phoneme Correct Answer in Candidates List:\", str(round(dic[name + '_phoneme_cand']/total_words*100,2)) + \"%\\n\")\n",
    "\n",
    "    print(\"PySpell Recall (Correct + Correct in Candidates List):\", str(round(dic[name + '_pyspell_comb']/total_words*100,2)) + \"%\")\n",
    "    print(\"SymSpell Recall (Correct + Correct in Candidates List):\", str(round(dic[name + '_symspell_comb']/total_words*100,2)) + \"%\")\n",
    "    print(\"Aspell Recall (Correct + Correct in Candidates List):\", str(round(dic[name + '_aspell_comb']/total_words*100,2)) + \"%\")\n",
    "    print(\"Phoneme Recall (Correct + Correct in Candidates List):\", str(round(dic[name + '_phoneme_comb']/total_words*100,2)) + \"%\")"
   ]
  },
  {
   "cell_type": "code",
   "execution_count": 10,
   "metadata": {},
   "outputs": [],
   "source": [
    "def print_overlap_scores(dict, compare_to):\n",
    "    \"\"\"Prints the overlap scores for a given input dict of results\"\"\"\n",
    "    \n",
    "    compare_to_low = compare_to.lower()\n",
    "    total_corrections = dict['both'] + dict[compare_to_low] + dict['cmu_phonemes']\n",
    "    print(\"Total corrections:\", total_corrections)\n",
    "    print(\"Overlap corrections: \" + \"{:.2f}\".format(dict['both'] / total_corrections*100)+\"%\")\n",
    "    print(\"Unique corrections \" + compare_to + \": \" + \"{:.2f}\".format(dict[compare_to_low] / total_corrections*100)+\"%\")\n",
    "    print(\"Unique corrections Phoneme method: \" + \"{:.2f}\".format(dict['cmu_phonemes']/\n",
    "                                                                 total_corrections*100)+\"%\")"
   ]
  },
  {
   "cell_type": "markdown",
   "metadata": {},
   "source": [
    "# 2.0 Holbrook Dataset <a name=\"holbrook\"></a>"
   ]
  },
  {
   "cell_type": "code",
   "execution_count": 11,
   "metadata": {},
   "outputs": [],
   "source": [
    "# Load Holbrook Spelling dictionaries\n",
    "file_name_h_pyspell = Path(input_path_files) / \"holbrook_pyspell_dict.txt\"\n",
    "holbrook_pyspell = pickle.load(open(file_name_h_pyspell, \"rb\"))\n",
    "\n",
    "file_name_h_symspell = Path(input_path_files) / \"holbrook_symspell_dict.txt\"\n",
    "holbrook_symspell = pickle.load(open(file_name_h_symspell, \"rb\"))\n",
    "\n",
    "file_name_h_aspell = Path(input_path_files) / \"holbrook_aspell_dict.txt\"\n",
    "holbrook_aspell = pickle.load(open(file_name_h_aspell, \"rb\"))\n",
    "\n",
    "file_name_h_phonemes = Path(input_path_files) / \"holbrook_phonemes_sym.txt\"\n",
    "holbrook_phonemes = pickle.load(open(file_name_h_phonemes, \"rb\"))"
   ]
  },
  {
   "cell_type": "markdown",
   "metadata": {},
   "source": [
    "## 2.1 Holbrook Scores <a name=\"holbrook_scores\"></a>"
   ]
  },
  {
   "cell_type": "code",
   "execution_count": 12,
   "metadata": {
    "scrolled": true
   },
   "outputs": [],
   "source": [
    "# Retrieve number of correct results for each method\n",
    "df_spellcheck_vs_cmu = pd.DataFrame(columns=['Spelling Application', 'Correct', 'Candidates', 'Correct_and_Candidates'])\n",
    "results_data = []\n",
    "results_data.append(score_application('PySpell', holbrook_pyspell))\n",
    "results_data.append(score_application('SymSpell', holbrook_symspell))\n",
    "results_data.append(score_application('Aspell', holbrook_aspell))\n",
    "results_data.append(score_application('Phonemes Method', holbrook_phonemes))\n",
    "df_spellcheck_vs_cmu = df_spellcheck_vs_cmu.append(results_data)"
   ]
  },
  {
   "cell_type": "code",
   "execution_count": 13,
   "metadata": {},
   "outputs": [
    {
     "data": {
      "text/html": [
       "<div>\n",
       "<style scoped>\n",
       "    .dataframe tbody tr th:only-of-type {\n",
       "        vertical-align: middle;\n",
       "    }\n",
       "\n",
       "    .dataframe tbody tr th {\n",
       "        vertical-align: top;\n",
       "    }\n",
       "\n",
       "    .dataframe thead th {\n",
       "        text-align: right;\n",
       "    }\n",
       "</style>\n",
       "<table border=\"1\" class=\"dataframe\">\n",
       "  <thead>\n",
       "    <tr style=\"text-align: right;\">\n",
       "      <th></th>\n",
       "      <th>Spelling Application</th>\n",
       "      <th>Correct</th>\n",
       "      <th>Candidates</th>\n",
       "      <th>Correct_and_Candidates</th>\n",
       "    </tr>\n",
       "  </thead>\n",
       "  <tbody>\n",
       "    <tr>\n",
       "      <th>0</th>\n",
       "      <td>PySpell</td>\n",
       "      <td>458</td>\n",
       "      <td>199</td>\n",
       "      <td>657</td>\n",
       "    </tr>\n",
       "    <tr>\n",
       "      <th>1</th>\n",
       "      <td>SymSpell</td>\n",
       "      <td>429</td>\n",
       "      <td>235</td>\n",
       "      <td>664</td>\n",
       "    </tr>\n",
       "    <tr>\n",
       "      <th>2</th>\n",
       "      <td>Aspell</td>\n",
       "      <td>423</td>\n",
       "      <td>638</td>\n",
       "      <td>1061</td>\n",
       "    </tr>\n",
       "    <tr>\n",
       "      <th>3</th>\n",
       "      <td>Phonemes Method</td>\n",
       "      <td>424</td>\n",
       "      <td>401</td>\n",
       "      <td>825</td>\n",
       "    </tr>\n",
       "  </tbody>\n",
       "</table>\n",
       "</div>"
      ],
      "text/plain": [
       "  Spelling Application Correct Candidates Correct_and_Candidates\n",
       "0              PySpell     458        199                    657\n",
       "1             SymSpell     429        235                    664\n",
       "2               Aspell     423        638                   1061\n",
       "3      Phonemes Method     424        401                    825"
      ]
     },
     "execution_count": 13,
     "metadata": {},
     "output_type": "execute_result"
    }
   ],
   "source": [
    "df_spellcheck_vs_cmu"
   ]
  },
  {
   "cell_type": "code",
   "execution_count": 14,
   "metadata": {},
   "outputs": [],
   "source": [
    "holbrook_total_words = len(holbrook_pyspell)"
   ]
  },
  {
   "cell_type": "code",
   "execution_count": 15,
   "metadata": {
    "scrolled": true
   },
   "outputs": [
    {
     "name": "stdout",
     "output_type": "stream",
     "text": [
      "PySpell Accuracy: 29.32%\n",
      "SymSpell Accuracy: 27.46%\n",
      "Aspell Accuracy: 27.08%\n",
      "Phoneme Accuracy: 27.14%\n",
      "\n",
      "PySpell Correct Answer in Candidates List: 12.74%\n",
      "SymSpell Correct Answer in Candidates List: 15.04%\n",
      "Aspell Correct Answer in Candidates List: 40.85%\n",
      "Phoneme Correct Answer in Candidates List: 25.67%\n",
      "\n",
      "PySpell Recall (Correct + Correct in Candidates List): 42.06%\n",
      "SymSpell Recall (Correct + Correct in Candidates List): 42.51%\n",
      "Aspell Recall (Correct + Correct in Candidates List): 67.93%\n",
      "Phoneme Recall (Correct + Correct in Candidates List): 52.82%\n"
     ]
    }
   ],
   "source": [
    "scores = assign_scores(df_spellcheck_vs_cmu, 'holbrook')\n",
    "print_scores(scores, 'holbrook', holbrook_total_words)"
   ]
  },
  {
   "cell_type": "markdown",
   "metadata": {},
   "source": [
    "## 2.2 Holbrook Overlap - PySpell vs Phonemes Method (Phoneme Correction with frequency dictionary) \n",
    "<a name=\"holbrook_overlap_pyspell_cmu\"></a>"
   ]
  },
  {
   "cell_type": "code",
   "execution_count": 16,
   "metadata": {},
   "outputs": [
    {
     "ename": "UnboundLocalError",
     "evalue": "local variable 'misspelling' referenced before assignment",
     "output_type": "error",
     "traceback": [
      "\u001b[0;31m---------------------------------------------------------------------------\u001b[0m",
      "\u001b[0;31mUnboundLocalError\u001b[0m                         Traceback (most recent call last)",
      "\u001b[0;32m<ipython-input-16-34a0aadacc6e>\u001b[0m in \u001b[0;36m<module>\u001b[0;34m\u001b[0m\n\u001b[0;32m----> 1\u001b[0;31m overlap_holbrook_py_cmu = overlap(holbrook_pyspell, holbrook_phonemes, 'pyspell', 'cmu_phonemes',\n\u001b[0m\u001b[1;32m      2\u001b[0m                            'holbrook', 'pyspell_cmu_phonemes')\n",
      "\u001b[0;32m<ipython-input-5-6b325d1299a2>\u001b[0m in \u001b[0;36moverlap\u001b[0;34m(dict_1, dict_2, dict_1_name, dict_2_name, data_name, comparison_name)\u001b[0m\n\u001b[1;32m     34\u001b[0m                 \u001b[0mmisspeling\u001b[0m \u001b[0;34m=\u001b[0m \u001b[0mkey\u001b[0m\u001b[0;34m\u001b[0m\u001b[0;34m\u001b[0m\u001b[0m\n\u001b[1;32m     35\u001b[0m                 \u001b[0msuggestion\u001b[0m \u001b[0;34m=\u001b[0m \u001b[0mdict_1\u001b[0m\u001b[0;34m[\u001b[0m\u001b[0mkey\u001b[0m\u001b[0;34m]\u001b[0m\u001b[0;34m[\u001b[0m\u001b[0;34m'correct_spelling'\u001b[0m\u001b[0;34m]\u001b[0m\u001b[0;34m\u001b[0m\u001b[0;34m\u001b[0m\u001b[0m\n\u001b[0;32m---> 36\u001b[0;31m                 both_correct_list.append({'Misspelling':misspelling, \n\u001b[0m\u001b[1;32m     37\u001b[0m                                           'Suggestion':suggestion})\n\u001b[1;32m     38\u001b[0m \u001b[0;34m\u001b[0m\u001b[0m\n",
      "\u001b[0;31mUnboundLocalError\u001b[0m: local variable 'misspelling' referenced before assignment"
     ]
    }
   ],
   "source": [
    "overlap_holbrook_py_cmu = overlap(holbrook_pyspell, holbrook_phonemes, 'pyspell', 'cmu_phonemes',\n",
    "                           'holbrook', 'pyspell_cmu_phonemes')"
   ]
  },
  {
   "cell_type": "code",
   "execution_count": null,
   "metadata": {},
   "outputs": [],
   "source": [
    "overlap_holbrook_py_cmu"
   ]
  },
  {
   "cell_type": "markdown",
   "metadata": {},
   "source": [
    "#### Version 2 Results - Improved Implementation"
   ]
  },
  {
   "cell_type": "code",
   "execution_count": null,
   "metadata": {
    "scrolled": false
   },
   "outputs": [],
   "source": [
    "plt.figure(linewidth=5,  facecolor='#F0F0F0', figsize=(15,12), dpi=60)\n",
    "v = venn2(subsets=(overlap_holbrook_py_cmu['pyspell'],overlap_holbrook_py_cmu['cmu_phonemes'],\n",
    "               overlap_holbrook_py_cmu['both']),set_labels=('PySpellChecker','S-capade'))\n",
    "venn2_circles(subsets=(overlap_holbrook_py_cmu['pyspell'],overlap_holbrook_py_cmu['cmu_phonemes'],\n",
    "               overlap_holbrook_py_cmu['both']))\n",
    "\n",
    "lbl_a = v.get_label_by_id(\"A\")\n",
    "lbl_b = v.get_label_by_id(\"B\")\n",
    "x1, y1 = lbl_a.get_position()\n",
    "x2, y2 = lbl_b.get_position()\n",
    "lbl_b.set_position((x2, y1))  \n",
    "# plt.legend(labels=['Python SpellChecker', ' S-capade','Common'])\n",
    "# plt.title('Holbrook Dataset Corrections - Python SpellChecker vs S-capade')\n",
    "plt.show()"
   ]
  },
  {
   "cell_type": "code",
   "execution_count": null,
   "metadata": {},
   "outputs": [],
   "source": [
    "print(color.BOLD + \"Holbrook Overlap PySpell vs CMU Method \\n\" + color.END)\n",
    "print_overlap_scores(overlap_holbrook_py_cmu, 'PySpell')"
   ]
  },
  {
   "cell_type": "markdown",
   "metadata": {},
   "source": [
    "## 2.3 Holbrook Overlap - SymSpell vs Phonemes Method (Phoneme Correction with frequency dictionary)\n",
    "<a name=\"holbrook_overlap_symspell_cmu\"></a>"
   ]
  },
  {
   "cell_type": "code",
   "execution_count": null,
   "metadata": {},
   "outputs": [],
   "source": [
    "overlap_holbrook_sym_cmu = overlap(holbrook_symspell, holbrook_phonemes, 'symspell', 'cmu_phonemes', \n",
    "                                   'holbrook','symspell_cmu_phonemes')"
   ]
  },
  {
   "cell_type": "code",
   "execution_count": null,
   "metadata": {},
   "outputs": [],
   "source": [
    "overlap_holbrook_sym_cmu"
   ]
  },
  {
   "cell_type": "markdown",
   "metadata": {},
   "source": [
    "#### Version 1 Results - No previous use of SymSpell"
   ]
  },
  {
   "cell_type": "code",
   "execution_count": null,
   "metadata": {},
   "outputs": [],
   "source": [
    "plt.figure(linewidth=5,  facecolor='#F0F0F0', figsize=(15,12), dpi=60)\n",
    "venn2(subsets=(overlap_holbrook_sym_cmu['symspell'],overlap_holbrook_sym_cmu['cmu_phonemes'],\n",
    "               overlap_holbrook_sym_cmu['both']),set_labels=('SymSpell', 'S-capade','Common'))\n",
    "\n",
    "venn2_circles(subsets=(overlap_holbrook_sym_cmu['symspell'],overlap_holbrook_sym_cmu['cmu_phonemes'],\n",
    "               overlap_holbrook_sym_cmu['both']))\n",
    "\n",
    "# plt.legend(labels=['SymSpell', 'S-capade','Common'])\n",
    "# plt.title('Holbrook Dataset Corrections - SymSpell vs S-capade')\n",
    "plt.show()"
   ]
  },
  {
   "cell_type": "code",
   "execution_count": null,
   "metadata": {},
   "outputs": [],
   "source": [
    "print(color.BOLD + \"Holbrook Overlap SymSpell vs Phonemes Method \\n\" + color.END)\n",
    "print_overlap_scores(overlap_holbrook_sym_cmu, 'SymSpell')"
   ]
  },
  {
   "cell_type": "markdown",
   "metadata": {},
   "source": [
    "## 2.4 Holbrook Overlap - Aspell vs Phonemes Method (Phoneme Correction with frequency dictionary)\n",
    "<a name=\"holbrook_overlap_aspell_cmu\"></a>"
   ]
  },
  {
   "cell_type": "code",
   "execution_count": null,
   "metadata": {},
   "outputs": [],
   "source": [
    "overlap_holbrook_asp_cmu = overlap(holbrook_aspell, holbrook_phonemes, 'aspell', 'cmu_phonemes', \n",
    "                                   'holbrook','aspell_cmu_phonemes')"
   ]
  },
  {
   "cell_type": "code",
   "execution_count": null,
   "metadata": {},
   "outputs": [],
   "source": [
    "overlap_holbrook_asp_cmu"
   ]
  },
  {
   "cell_type": "code",
   "execution_count": null,
   "metadata": {},
   "outputs": [],
   "source": [
    "plt.figure(linewidth=5,  facecolor='#F0F0F0', figsize=(15,12), dpi=60)\n",
    "v = venn2(subsets=(overlap_holbrook_asp_cmu['aspell'],overlap_holbrook_asp_cmu['cmu_phonemes'],\n",
    "               overlap_holbrook_asp_cmu['both']),set_labels=('Aspell', 'S-capade','Common'))\n",
    "\n",
    "venn2_circles(subsets=(overlap_holbrook_asp_cmu['aspell'],overlap_holbrook_asp_cmu['cmu_phonemes'],\n",
    "               overlap_holbrook_asp_cmu['both']))\n",
    "lbl_a = v.get_label_by_id(\"A\")\n",
    "lbl_b = v.get_label_by_id(\"B\")\n",
    "x1, y1 = lbl_a.get_position()\n",
    "x2, y2 = lbl_b.get_position()\n",
    "lbl_b.set_position((x2, y1))  \n",
    "\n",
    "# plt.gca().set_axis_off()\n",
    "# plt.subplots_adjust(top = 1, bottom = 0, right = 1, left = 0, \n",
    "#             hspace = 0, wspace = 0)\n",
    "# plt.margins(0,0)\n",
    "# plt.gca().xaxis.set_major_locator(plt.NullLocator())\n",
    "# plt.gca().yaxis.set_major_locator(plt.NullLocator())\n",
    "# plt.legend(labels=['Aspell', 'S-capade','Common'])\n",
    "# plt.title('Holbrook Dataset Corrections - Aspell vs Phonemes Method')\n",
    "# plt.savefig('graphs/holbrook_overlap.eps')\n",
    "plt.savefig('graphs/holbrook_overlap.png',)\n",
    "# tikzplotlib.save(\"mytikz.tex\")\n",
    "# plt.savefig('graphs/holbrook_overlap.pgf',bbox_inches='tight',\n",
    "#            pad_inches=0, transparent=True)\n",
    "plt.show()"
   ]
  },
  {
   "cell_type": "code",
   "execution_count": null,
   "metadata": {},
   "outputs": [],
   "source": [
    "print(color.BOLD + \"Holbrook Overlap Aspell vs Phonemes Method \\n\" + color.END)\n",
    "print_overlap_scores(overlap_holbrook_asp_cmu, 'Aspell')"
   ]
  },
  {
   "cell_type": "markdown",
   "metadata": {},
   "source": [
    "# 3.0 Birckbeck Dataset <a name=\"birkbeck\"></a>"
   ]
  },
  {
   "cell_type": "code",
   "execution_count": null,
   "metadata": {},
   "outputs": [],
   "source": [
    "# Load Birkbeck Spelling dictionaries\n",
    "file_name_b_pyspell = Path(input_path_files) / \"birkbeck_pyspell_dict.txt\"\n",
    "birkbeck_pyspell = pickle.load(open(file_name_b_pyspell, \"rb\"))\n",
    "\n",
    "file_name_b_symspell = Path(input_path_files) / \"birkbeck_symspell_dict.txt\"\n",
    "birkbeck_symspell = pickle.load(open(file_name_b_symspell, \"rb\"))\n",
    "\n",
    "file_name_b_aspell = Path(input_path_files) / \"birkbeck_aspell_dict.txt\"\n",
    "birkbeck_aspell = pickle.load(open(file_name_b_aspell, \"rb\"))\n",
    "\n",
    "file_name_b_phonemes = Path(input_path_files) / \"birkbeck_phonemes_sym.txt\"\n",
    "birkbeck_phonemes = pickle.load(open(file_name_b_phonemes, \"rb\"))"
   ]
  },
  {
   "cell_type": "markdown",
   "metadata": {},
   "source": [
    "## 3.1 Birkbeck Scores <a name=\"birkbeck_scores\"></a>"
   ]
  },
  {
   "cell_type": "code",
   "execution_count": null,
   "metadata": {},
   "outputs": [],
   "source": [
    "df_spellcheck_vs_cmu = pd.DataFrame(columns=['Spelling Application', 'Correct', 'Candidates', 'Correct_and_Candidates'])\n",
    "results_data = []\n",
    "results_data.append(score_application('PySpell', birkbeck_pyspell))\n",
    "results_data.append(score_application('SymSpell', birkbeck_symspell))\n",
    "results_data.append(score_application('Aspell', birkbeck_aspell))\n",
    "results_data.append(score_application('Phonemes Method', birkbeck_phonemes))\n",
    "df_spellcheck_vs_cmu = df_spellcheck_vs_cmu.append(results_data)"
   ]
  },
  {
   "cell_type": "code",
   "execution_count": null,
   "metadata": {},
   "outputs": [],
   "source": [
    "df_spellcheck_vs_cmu"
   ]
  },
  {
   "cell_type": "code",
   "execution_count": null,
   "metadata": {},
   "outputs": [],
   "source": [
    "birkbeck_total_words = len(birkbeck_pyspell)"
   ]
  },
  {
   "cell_type": "code",
   "execution_count": null,
   "metadata": {},
   "outputs": [],
   "source": [
    "scores = assign_scores(df_spellcheck_vs_cmu, 'birkbeck')\n",
    "print_scores(scores, 'birkbeck', birkbeck_total_words)"
   ]
  },
  {
   "cell_type": "markdown",
   "metadata": {},
   "source": [
    "## 3.2 Birkbeck Overlap - PySpell vs Phonemes Method (Phoneme Correction with frequency dictionary)\n",
    "<a name=\"birkbeck_overlap_pyspell\"></a>"
   ]
  },
  {
   "cell_type": "code",
   "execution_count": null,
   "metadata": {},
   "outputs": [],
   "source": [
    "birkbeck_overlap_py_cmu = overlap(birkbeck_pyspell, birkbeck_phonemes, 'pyspell', 'cmu_phonemes',\n",
    "                                  'birkbeck', 'pyspell_cmu_phonemes')"
   ]
  },
  {
   "cell_type": "code",
   "execution_count": null,
   "metadata": {},
   "outputs": [],
   "source": [
    "birkbeck_overlap_py_cmu"
   ]
  },
  {
   "cell_type": "code",
   "execution_count": null,
   "metadata": {},
   "outputs": [],
   "source": [
    "plt.figure(linewidth=5, facecolor='#F0F0F0', figsize=(15,12), dpi=60)\n",
    "venn2(subsets=(birkbeck_overlap_py_cmu['pyspell'],birkbeck_overlap_py_cmu['cmu_phonemes'],\n",
    "               birkbeck_overlap_py_cmu['both']), set_labels=('','',''))\n",
    "\n",
    "venn2_circles(subsets=(birkbeck_overlap_py_cmu['pyspell'],birkbeck_overlap_py_cmu['cmu_phonemes'],\n",
    "               birkbeck_overlap_py_cmu['both']))\n",
    "\n",
    "plt.legend(labels=['Python SpellChecker', 'S-capade','Common'])\n",
    "plt.title('Birkbeck Dataset Corrections - Python SpellChecker vs S-capade')\n",
    "plt.show()"
   ]
  },
  {
   "cell_type": "code",
   "execution_count": null,
   "metadata": {},
   "outputs": [],
   "source": [
    "print(color.BOLD + \"Birkbeck Overlap PySpell vs S-capade \\n\" + color.END)\n",
    "print_overlap_scores(birkbeck_overlap_py_cmu, 'PySpell')"
   ]
  },
  {
   "cell_type": "markdown",
   "metadata": {},
   "source": [
    "## 3.3 Birkbeck Overlap - SymSpell vs Phonemes Method (Phoneme Correction with frequency dictionary)\n",
    "<a name=\"birkbeck_overlap_symspell\"></a>"
   ]
  },
  {
   "cell_type": "code",
   "execution_count": null,
   "metadata": {},
   "outputs": [],
   "source": [
    "overlap_birkbeck_sym = overlap(birkbeck_symspell, birkbeck_phonemes, 'symspell', 'cmu_phonemes', \n",
    "                               'birkbeck', 'symspell_cmu_phonemes')"
   ]
  },
  {
   "cell_type": "code",
   "execution_count": null,
   "metadata": {},
   "outputs": [],
   "source": [
    "overlap_birkbeck_sym"
   ]
  },
  {
   "cell_type": "code",
   "execution_count": null,
   "metadata": {},
   "outputs": [],
   "source": [
    "plt.figure(linewidth=5,  facecolor='#F0F0F0', figsize=(15,12), dpi=60)\n",
    "venn2(subsets=(overlap_birkbeck_sym['symspell'],overlap_birkbeck_sym['cmu_phonemes'],\n",
    "               overlap_birkbeck_sym['both']), set_labels=('','',''))\n",
    "\n",
    "venn2_circles(subsets=(overlap_birkbeck_sym['symspell'],overlap_birkbeck_sym['cmu_phonemes'],\n",
    "               overlap_birkbeck_sym['both']))\n",
    "\n",
    "plt.legend(labels=['SymSpell', 'S-capade','Common'])\n",
    "plt.title('Birkbeck Dataset Corrections - SymSpell vs S-capade')\n",
    "plt.show()"
   ]
  },
  {
   "cell_type": "code",
   "execution_count": null,
   "metadata": {
    "scrolled": true
   },
   "outputs": [],
   "source": [
    "print(color.BOLD + \"Birkbeck Overlap SymSpell vs S-capade \\n\" + color.END)\n",
    "print_overlap_scores(overlap_birkbeck_sym, 'SymSpell')"
   ]
  },
  {
   "cell_type": "markdown",
   "metadata": {},
   "source": [
    "## 3.4 Birkbeck Overlap - Aspell vs Phonemes Method (Phoneme Correction with frequency dictionary)\n",
    "<a name=\"birkbeck_overlap_aspell\"></a>"
   ]
  },
  {
   "cell_type": "code",
   "execution_count": null,
   "metadata": {
    "scrolled": false
   },
   "outputs": [],
   "source": [
    "overlap_birkbeck_asp = overlap(birkbeck_aspell, birkbeck_phonemes, 'aspell', 'cmu_phonemes', \n",
    "                               'birkbeck', 'aspell_cmu_phonemes')"
   ]
  },
  {
   "cell_type": "code",
   "execution_count": null,
   "metadata": {},
   "outputs": [],
   "source": [
    "overlap_birkbeck_asp"
   ]
  },
  {
   "cell_type": "code",
   "execution_count": null,
   "metadata": {},
   "outputs": [],
   "source": [
    "plt.figure(linewidth=5,  facecolor='#FFFFFF', figsize=(15,12), dpi=60)\n",
    "v = venn2(subsets=(overlap_birkbeck_asp['aspell'],overlap_birkbeck_asp['cmu_phonemes'],\n",
    "               overlap_birkbeck_asp['both']), set_labels=('Aspell', 'S-capade','Common'))\n",
    "\n",
    "venn2_circles(subsets=(overlap_birkbeck_asp['aspell'],overlap_birkbeck_asp['cmu_phonemes'],\n",
    "               overlap_birkbeck_asp['both']))\n",
    "\n",
    "lbl_a = v.get_label_by_id(\"A\")\n",
    "lbl_b = v.get_label_by_id(\"B\")\n",
    "x1, y1 = lbl_a.get_position()\n",
    "x2, y2 = lbl_b.get_position()\n",
    "lbl_b.set_position((x2, y1))  \n",
    "\n",
    "# plt.legend(labels=['Aspell', 'S-capade','Common'])\n",
    "# plt.title('Birkbeck Dataset Corrections - Aspell vs Phonemes Method')\n",
    "# plt.savefig('graphs/birkbeck_overlap.eps')\n",
    "plt.savefig('graphs/birkbeck_overlap.png')\n",
    "plt.show()"
   ]
  },
  {
   "cell_type": "code",
   "execution_count": null,
   "metadata": {
    "scrolled": true
   },
   "outputs": [],
   "source": [
    "print(color.BOLD + \"Birkbeck Overlap Aspell vs S-capade \\n\" + color.END)\n",
    "print_overlap_scores(overlap_birkbeck_asp, 'Aspell')"
   ]
  },
  {
   "cell_type": "markdown",
   "metadata": {},
   "source": [
    "# 4.0 Zeeko Dataset <a name=\"zeeko\"></a>"
   ]
  },
  {
   "cell_type": "code",
   "execution_count": null,
   "metadata": {},
   "outputs": [],
   "source": [
    "# Load Zeeko Spelling dictionaries\n",
    "file_name_z_pyspell = Path(input_path_files) / \"zeeko_pyspell_dict.txt\"\n",
    "zeeko_pyspell = pickle.load(open(file_name_z_pyspell, \"rb\"))\n",
    "\n",
    "file_name_z_symspell = Path(input_path_files) / \"zeeko_symspell_dict.txt\"\n",
    "zeeko_symspell = pickle.load(open(file_name_z_symspell, \"rb\"))\n",
    "\n",
    "file_name_z_aspell = Path(input_path_files) / \"zeeko_aspell_dict.txt\"\n",
    "zeeko_aspell = pickle.load(open(file_name_z_aspell, \"rb\"))\n",
    "\n",
    "file_name_z_phonemes = Path(input_path_files) / \"zeeko_phonemes_sym.txt\"\n",
    "zeeko_phonemes = pickle.load(open(file_name_z_phonemes, \"rb\"))"
   ]
  },
  {
   "cell_type": "markdown",
   "metadata": {},
   "source": [
    "## 4.1 Zeeko Scores <a name=\"zeeko_scores\"></a>"
   ]
  },
  {
   "cell_type": "code",
   "execution_count": null,
   "metadata": {},
   "outputs": [],
   "source": [
    "df_spellcheck_vs_cmu = pd.DataFrame(columns=['Spelling Application', 'Correct', 'Candidates', 'Correct_and_Candidates'])\n",
    "results_data = []\n",
    "results_data.append(score_application('PySpell', zeeko_pyspell))\n",
    "results_data.append(score_application('SymSpell', zeeko_symspell))\n",
    "results_data.append(score_application('Aspell', zeeko_aspell))\n",
    "results_data.append(score_application('Phonemes Method', zeeko_phonemes))\n",
    "df_spellcheck_vs_cmu = df_spellcheck_vs_cmu.append(results_data)"
   ]
  },
  {
   "cell_type": "code",
   "execution_count": null,
   "metadata": {},
   "outputs": [],
   "source": [
    "df_spellcheck_vs_cmu"
   ]
  },
  {
   "cell_type": "code",
   "execution_count": null,
   "metadata": {},
   "outputs": [],
   "source": [
    "zeeko_total_words = len(zeeko_symspell)"
   ]
  },
  {
   "cell_type": "code",
   "execution_count": null,
   "metadata": {},
   "outputs": [],
   "source": [
    "scores = assign_scores(df_spellcheck_vs_cmu, 'zeeko')\n",
    "print_scores(scores, 'zeeko', zeeko_total_words)"
   ]
  },
  {
   "cell_type": "markdown",
   "metadata": {},
   "source": [
    "## 4.2 Zeeko Overlap - PySpell vs Phonemes Method (Phoneme Correction with frequency dictionary)\n",
    "<a name=\"zeeko_overlap_pyspell\"></a>"
   ]
  },
  {
   "cell_type": "code",
   "execution_count": null,
   "metadata": {},
   "outputs": [],
   "source": [
    "path = \"../data_analysis/results/zeeko/all_phoneme_corrections.csv\"\n",
    "path = Path(path)\n",
    "df_zeeko = pd.read_csv(path)\n",
    "temp_correct = df_zeeko['suggested'].tolist()"
   ]
  },
  {
   "cell_type": "code",
   "execution_count": null,
   "metadata": {},
   "outputs": [],
   "source": [
    "overlap_zeeko_py = overlap(zeeko_pyspell, zeeko_phonemes, 'pyspell', 'cmu_phonemes', 'zeeko', \n",
    "                           'pyspell_cmu_phonemes')"
   ]
  },
  {
   "cell_type": "code",
   "execution_count": null,
   "metadata": {},
   "outputs": [],
   "source": [
    "overlap_zeeko_py"
   ]
  },
  {
   "cell_type": "code",
   "execution_count": null,
   "metadata": {},
   "outputs": [],
   "source": [
    "plt.figure(linewidth=5, facecolor='#F0F0F0', figsize=(15,12), dpi=60)\n",
    "venn2(subsets=(overlap_zeeko_py['pyspell'],overlap_zeeko_py['cmu_phonemes'],overlap_zeeko_py['both']), \n",
    "      set_labels=('','',''))\n",
    "\n",
    "venn2_circles(subsets=(overlap_zeeko_py['pyspell'],overlap_zeeko_py['cmu_phonemes'],overlap_zeeko_py['both']))\n",
    "\n",
    "plt.legend(labels=['Python SpellChecker', 'S-capade','Common'])\n",
    "plt.title('Zeeko Dataset Corrections - Python SpellChecker vs S-capade')\n",
    "plt.show()"
   ]
  },
  {
   "cell_type": "code",
   "execution_count": null,
   "metadata": {},
   "outputs": [],
   "source": [
    "print(color.BOLD + \"Zeeko Overlap PySpell vs S-capade \\n\" + color.END)\n",
    "print_overlap_scores(overlap_zeeko_py, 'PySpell')"
   ]
  },
  {
   "cell_type": "markdown",
   "metadata": {},
   "source": [
    "## 4.3 Zeeko Overlap - SymSpell vs Phonemes Method (Phoneme Correction with frequency dictionary)\n",
    "<a name=\"zeeko_overlap_symspell\"></a>"
   ]
  },
  {
   "cell_type": "code",
   "execution_count": null,
   "metadata": {},
   "outputs": [],
   "source": [
    "overlap_zeeko_sym = overlap(zeeko_symspell, zeeko_phonemes, 'symspell', 'cmu_phonemes', 'zeeko',\n",
    "                            'symspell_cmu_phonemes')"
   ]
  },
  {
   "cell_type": "code",
   "execution_count": null,
   "metadata": {},
   "outputs": [],
   "source": [
    "overlap_zeeko_sym"
   ]
  },
  {
   "cell_type": "code",
   "execution_count": null,
   "metadata": {},
   "outputs": [],
   "source": [
    "plt.figure(linewidth=5,  facecolor='#F0F0F0', figsize=(15,12), dpi=60)\n",
    "venn2(subsets=(overlap_zeeko_sym['symspell'],overlap_zeeko_sym['cmu_phonemes'],overlap_zeeko_sym['both']), \n",
    "      set_labels=('SymSpell', 'S-capade','Common'))\n",
    "\n",
    "venn2_circles(subsets=(overlap_zeeko_sym['symspell'],overlap_zeeko_sym['cmu_phonemes'],overlap_zeeko_sym['both']))\n",
    "\n",
    "plt.legend(labels=['SymSpell', 'S-capade','Common'])\n",
    "# plt.title('Zeeko Dataset Corrections - SymSpell vs S-capade')\n",
    "plt.show()"
   ]
  },
  {
   "cell_type": "code",
   "execution_count": null,
   "metadata": {},
   "outputs": [],
   "source": [
    "print(color.BOLD + \"Zeeko Overlap SymSpell vs S-capade \\n\" + color.END)\n",
    "print_overlap_scores(overlap_zeeko_sym, 'SymSpell')"
   ]
  },
  {
   "cell_type": "markdown",
   "metadata": {},
   "source": [
    "## 4.4 Zeeko Overlap - Aspell vs Phonemes Method (Phoneme Correction with frequency dictionary)\n",
    "<a name=\"zeeko_overlap_aspell\"></a>"
   ]
  },
  {
   "cell_type": "code",
   "execution_count": null,
   "metadata": {},
   "outputs": [],
   "source": [
    "overlap_zeeko_asp = overlap(zeeko_aspell, zeeko_phonemes, 'aspell', 'cmu_phonemes', 'zeeko',\n",
    "                            'aspell_cmu_phonemes')"
   ]
  },
  {
   "cell_type": "code",
   "execution_count": null,
   "metadata": {},
   "outputs": [],
   "source": [
    "overlap_zeeko_asp"
   ]
  },
  {
   "cell_type": "code",
   "execution_count": null,
   "metadata": {},
   "outputs": [],
   "source": [
    "plt.figure(linewidth=5,  facecolor='#F0F0F0', figsize=(15,12), dpi=60)\n",
    "v = venn2(subsets=(overlap_zeeko_asp['aspell'],overlap_zeeko_asp['cmu_phonemes'],overlap_zeeko_asp['both']), \n",
    "      set_labels=('Aspell', 'S-capade','Common'))\n",
    "\n",
    "venn2_circles(subsets=(overlap_zeeko_asp['aspell'],overlap_zeeko_asp['cmu_phonemes'],overlap_zeeko_asp['both']))\n",
    "\n",
    "lbl_a = v.get_label_by_id(\"A\")\n",
    "lbl_b = v.get_label_by_id(\"B\")\n",
    "x1, y1 = lbl_a.get_position()\n",
    "x2, y2 = lbl_b.get_position()\n",
    "lbl_b.set_position((x2, y1))  \n",
    "\n",
    "# plt.legend(labels=['Aspell', 'S-capade','Common'])\n",
    "# plt.title('Zeeko Dataset Corrections - Aspell vs Phonemes Method')\n",
    "plt.savefig('graphs/zeeko_overlap.png')\n",
    "plt.show()"
   ]
  },
  {
   "cell_type": "code",
   "execution_count": null,
   "metadata": {},
   "outputs": [],
   "source": [
    "print(color.BOLD + \"Zeeko Overlap Aspell vs S-capade \\n\" + color.END)\n",
    "print_overlap_scores(overlap_zeeko_asp, 'Aspell')"
   ]
  },
  {
   "cell_type": "markdown",
   "metadata": {},
   "source": [
    "# 5.0 Aspell Dataset <a name=\"aspell\"></a>"
   ]
  },
  {
   "cell_type": "code",
   "execution_count": null,
   "metadata": {},
   "outputs": [],
   "source": [
    "# Load aspell Spelling dictionaries\n",
    "file_name_a_pyspell = Path(input_path_files) / \"aspell_pyspell_dict.txt\"\n",
    "aspell_pyspell = pickle.load(open(file_name_a_pyspell, \"rb\"))\n",
    "\n",
    "file_name_a_symspell = Path(input_path_files) / \"aspell_symspell_dict.txt\"\n",
    "aspell_symspell = pickle.load(open(file_name_a_symspell, \"rb\"))\n",
    "\n",
    "file_name_a_aspell = Path(input_path_files) / \"aspell_aspell_dict.txt\"\n",
    "aspell_aspell = pickle.load(open(file_name_a_aspell, \"rb\"))\n",
    "\n",
    "file_name_a_phonemes = Path(input_path_files) / \"aspell_phonemes_sym.txt\"\n",
    "aspell_phonemes = pickle.load(open(file_name_a_phonemes, \"rb\"))"
   ]
  },
  {
   "cell_type": "markdown",
   "metadata": {},
   "source": [
    "## 5.1 Aspell Scores <a name=\"aspell_scores\"></a>"
   ]
  },
  {
   "cell_type": "code",
   "execution_count": null,
   "metadata": {},
   "outputs": [],
   "source": [
    "df_spellcheck_vs_cmu = pd.DataFrame(columns=['Spelling Application', 'Correct', 'Candidates', 'Correct_and_Candidates'])\n",
    "results_data = []\n",
    "results_data.append(score_application('PySpell', aspell_pyspell))\n",
    "results_data.append(score_application('SymSpell', aspell_symspell))\n",
    "results_data.append(score_application('Aspell', aspell_aspell))\n",
    "results_data.append(score_application('Phonemes Method', aspell_phonemes))\n",
    "df_spellcheck_vs_cmu = df_spellcheck_vs_cmu.append(results_data)"
   ]
  },
  {
   "cell_type": "code",
   "execution_count": null,
   "metadata": {},
   "outputs": [],
   "source": [
    "df_spellcheck_vs_cmu"
   ]
  },
  {
   "cell_type": "code",
   "execution_count": null,
   "metadata": {},
   "outputs": [],
   "source": [
    "aspell_total_words = len(aspell_phonemes)"
   ]
  },
  {
   "cell_type": "code",
   "execution_count": null,
   "metadata": {},
   "outputs": [],
   "source": [
    "scores = assign_scores(df_spellcheck_vs_cmu, 'aspell')\n",
    "print_scores(scores, 'aspell', aspell_total_words)"
   ]
  },
  {
   "cell_type": "markdown",
   "metadata": {},
   "source": [
    "## 5.2 Aspell Overlap - PySpell vs Phonemes Method (Phoneme Correction with frequency dictionary)\n",
    "<a name=\"aspell_overlap_pyspell_cmu\"></a>"
   ]
  },
  {
   "cell_type": "code",
   "execution_count": null,
   "metadata": {},
   "outputs": [],
   "source": [
    "overlap_aspell_py = overlap(aspell_pyspell, aspell_phonemes, 'pyspell', 'cmu_phonemes', 'aspell',\n",
    "                            'pyspell_cmu_phonemes')"
   ]
  },
  {
   "cell_type": "code",
   "execution_count": null,
   "metadata": {},
   "outputs": [],
   "source": [
    "overlap_aspell_py"
   ]
  },
  {
   "cell_type": "code",
   "execution_count": null,
   "metadata": {},
   "outputs": [],
   "source": [
    "plt.figure(linewidth=5, facecolor='#F0F0F0', figsize=(15,12), dpi=60)\n",
    "venn2(subsets=(overlap_aspell_py['pyspell'],overlap_aspell_py['cmu_phonemes'],\n",
    "               overlap_aspell_py['both']), set_labels=('','',''))\n",
    "\n",
    "venn2_circles(subsets=(overlap_aspell_py['pyspell'],overlap_aspell_py['cmu_phonemes'],\n",
    "               overlap_aspell_py['both']))\n",
    "\n",
    "plt.legend(labels=['Python SpellChecker', 'S-capade','Common'])\n",
    "plt.title('GNU Aspell Dataset Corrections - Python SpellChecker vs S-capade')\n",
    "plt.show()"
   ]
  },
  {
   "cell_type": "code",
   "execution_count": null,
   "metadata": {},
   "outputs": [],
   "source": [
    "print(color.BOLD + \"Aspell Overlap PySpell vs S-capade \\n\" + color.END)\n",
    "print_overlap_scores(overlap_aspell_py, 'PySpell')"
   ]
  },
  {
   "cell_type": "markdown",
   "metadata": {},
   "source": [
    "## 5.3 Aspell Overlap - SymSpell vs Phonemes Method (Phoneme Correction with frequency dictionary)\n",
    "<a name=\"aspell_overlap_symspell_cmu\"></a>"
   ]
  },
  {
   "cell_type": "code",
   "execution_count": null,
   "metadata": {},
   "outputs": [],
   "source": [
    "overlap_aspell_sym = overlap(aspell_symspell, aspell_phonemes, 'symspell', 'cmu_phonemes', 'aspell', \n",
    "                             'symspell_cmu_phonemes')"
   ]
  },
  {
   "cell_type": "code",
   "execution_count": null,
   "metadata": {},
   "outputs": [],
   "source": [
    "overlap_aspell_sym"
   ]
  },
  {
   "cell_type": "code",
   "execution_count": null,
   "metadata": {},
   "outputs": [],
   "source": [
    "plt.figure(linewidth=5,  facecolor='#F0F0F0', figsize=(15,12), dpi=60)\n",
    "venn2(subsets=(overlap_aspell_sym['symspell'],overlap_aspell_sym['cmu_phonemes'],overlap_aspell_sym['both']),\n",
    "      set_labels=('','',''))\n",
    "\n",
    "venn2_circles(subsets=(overlap_aspell_sym['symspell'],overlap_aspell_sym['cmu_phonemes'],overlap_aspell_sym['both']))\n",
    "\n",
    "plt.legend(labels=['SymSpell', 'S-capade','Common'])\n",
    "plt.title('GNU Aspell Dataset Corrections - SymSpell vs S-capade')\n",
    "plt.show()"
   ]
  },
  {
   "cell_type": "code",
   "execution_count": null,
   "metadata": {},
   "outputs": [],
   "source": [
    "print(color.BOLD + \"Aspell Overlap SymSpell vs S-capade \\n\" + color.END)\n",
    "print_overlap_scores(overlap_aspell_sym, 'SymSpell')"
   ]
  },
  {
   "cell_type": "markdown",
   "metadata": {},
   "source": [
    "## 5.4 Aspell Overlap - Aspell vs Phonemes Method (Phoneme Correction with frequency dictionary)\n",
    "<a name=\"aspell_overlap_aspell_cmu\"></a>"
   ]
  },
  {
   "cell_type": "code",
   "execution_count": null,
   "metadata": {},
   "outputs": [],
   "source": [
    "overlap_aspell_asp = overlap(aspell_aspell, aspell_phonemes, 'aspell', 'cmu_phonemes', 'aspell', \n",
    "                             'aspell_cmu_phonemes')"
   ]
  },
  {
   "cell_type": "code",
   "execution_count": null,
   "metadata": {},
   "outputs": [],
   "source": [
    "overlap_aspell_asp"
   ]
  },
  {
   "cell_type": "code",
   "execution_count": null,
   "metadata": {},
   "outputs": [],
   "source": [
    "plt.figure(linewidth=5,  facecolor='#F0F0F0', figsize=(15,12), dpi=60)\n",
    "v = venn2(subsets=(overlap_aspell_asp['aspell'],overlap_aspell_asp['cmu_phonemes'],overlap_aspell_asp['both']),\n",
    "      set_labels=('Aspell', 'S-capade','Common'))\n",
    "\n",
    "lbl_a = v.get_label_by_id(\"A\")\n",
    "lbl_b = v.get_label_by_id(\"B\")\n",
    "x1, y1 = lbl_a.get_position()\n",
    "x2, y2 = lbl_b.get_position()\n",
    "lbl_b.set_position((x2+0.1, y1))  \n",
    "\n",
    "venn2_circles(subsets=(overlap_aspell_asp['aspell'],overlap_aspell_asp['cmu_phonemes'],overlap_aspell_asp['both']))\n",
    "\n",
    "# plt.legend(labels=['Aspell', 'S-capade','Common'])\n",
    "# plt.title('GNU Aspell Dataset Corrections - Aspell vs Phonemes Method')\n",
    "plt.savefig('graphs/aspell_overlap.png')\n",
    "plt.show()"
   ]
  },
  {
   "cell_type": "code",
   "execution_count": null,
   "metadata": {},
   "outputs": [],
   "source": [
    "print(color.BOLD + \"Aspell Overlap Aspell vs S-capade \\n\" + color.END)\n",
    "print_overlap_scores(overlap_aspell_asp, 'Aspell')"
   ]
  },
  {
   "cell_type": "markdown",
   "metadata": {},
   "source": [
    "# 6.0 Wikipedia Dataset <a name=\"wiki\"><a/>"
   ]
  },
  {
   "cell_type": "code",
   "execution_count": null,
   "metadata": {},
   "outputs": [],
   "source": [
    "# Load wiki Spelling dictionaries\n",
    "file_name_w_pyspell = Path(input_path_files) / \"wiki_pyspell_dict.txt\"\n",
    "wiki_pyspell = pickle.load(open(file_name_w_pyspell, \"rb\"))\n",
    "\n",
    "file_name_w_symspell = Path(input_path_files) / \"wiki_symspell_dict.txt\"\n",
    "wiki_symspell = pickle.load(open(file_name_w_symspell, \"rb\"))\n",
    "\n",
    "file_name_w_aspell = Path(input_path_files) / \"wiki_aspell_dict.txt\"\n",
    "wiki_aspell = pickle.load(open(file_name_w_aspell, \"rb\"))\n",
    "\n",
    "file_name_w_phonemes = Path(input_path_files) / \"wiki_phonemes_sym.txt\"\n",
    "wiki_phonemes = pickle.load(open(file_name_w_phonemes, \"rb\"))"
   ]
  },
  {
   "cell_type": "markdown",
   "metadata": {},
   "source": [
    "## 6.1 Wikipedia Scores <a name=\"wiki_scores\"></a>"
   ]
  },
  {
   "cell_type": "code",
   "execution_count": null,
   "metadata": {},
   "outputs": [],
   "source": [
    "df_spellcheck_vs_cmu = pd.DataFrame(columns=['Spelling Application', 'Correct', 'Candidates', 'Correct_and_Candidates'])\n",
    "results_data = []\n",
    "results_data.append(score_application('PySpell', wiki_pyspell))\n",
    "results_data.append(score_application('SymSpell', wiki_symspell))\n",
    "results_data.append(score_application('Aspell', wiki_aspell))\n",
    "results_data.append(score_application('Phonemes Method', wiki_phonemes))\n",
    "df_spellcheck_vs_cmu = df_spellcheck_vs_cmu.append(results_data)"
   ]
  },
  {
   "cell_type": "code",
   "execution_count": null,
   "metadata": {
    "scrolled": true
   },
   "outputs": [],
   "source": [
    "df_spellcheck_vs_cmu"
   ]
  },
  {
   "cell_type": "code",
   "execution_count": null,
   "metadata": {},
   "outputs": [],
   "source": [
    "wiki_total_words = len(wiki_phonemes)"
   ]
  },
  {
   "cell_type": "code",
   "execution_count": null,
   "metadata": {},
   "outputs": [],
   "source": [
    "scores = assign_scores(df_spellcheck_vs_cmu, 'wiki')\n",
    "print_scores(scores, 'wiki', wiki_total_words)"
   ]
  },
  {
   "cell_type": "markdown",
   "metadata": {},
   "source": [
    "## 6.2 Wikipedia Overlap - PySpell vs Phonemes Method (Phoneme Correction with frequency dictionary)\n",
    "<a name=\"wiki_overlap_pyspell\"></a>"
   ]
  },
  {
   "cell_type": "code",
   "execution_count": null,
   "metadata": {},
   "outputs": [],
   "source": [
    "overlap_wiki_py = overlap(wiki_pyspell, wiki_phonemes, 'pyspell', 'cmu_phonemes', 'wiki', \n",
    "                          'pyspell_cmu_phonemes')"
   ]
  },
  {
   "cell_type": "code",
   "execution_count": null,
   "metadata": {},
   "outputs": [],
   "source": [
    "overlap_wiki_py"
   ]
  },
  {
   "cell_type": "code",
   "execution_count": null,
   "metadata": {},
   "outputs": [],
   "source": [
    "plt.figure(linewidth=5, facecolor='#F0F0F0', figsize=(15,12), dpi=60)\n",
    "venn2(subsets=(overlap_wiki_py['pyspell'],overlap_wiki_py['cmu_phonemes'],overlap_wiki_py['both']), set_labels=('','',''))\n",
    "\n",
    "venn2_circles(subsets=(overlap_wiki_py['pyspell'],overlap_wiki_py['cmu_phonemes'],overlap_wiki_py['both']))\n",
    "\n",
    "plt.legend(labels=['Python SpellChecker', 'S-capade','Common'])\n",
    "plt.title('Wikipedia Dataset Corrections - Python SpellChecker vs S-capade')\n",
    "plt.show()"
   ]
  },
  {
   "cell_type": "code",
   "execution_count": null,
   "metadata": {},
   "outputs": [],
   "source": [
    "print(color.BOLD + \"Wikipedia Overlap PySpell vs Phonemes Method \\n\" + color.END)\n",
    "print_overlap_scores(overlap_wiki_py, 'PySpell')"
   ]
  },
  {
   "cell_type": "markdown",
   "metadata": {},
   "source": [
    "## 6.3 Wikipedia Overlap - SymSpell vs Phonemes Method (Phoneme Correction with frequency dictionary)\n",
    "<a name=\"wiki_overlap_symspell\"></a>"
   ]
  },
  {
   "cell_type": "code",
   "execution_count": null,
   "metadata": {},
   "outputs": [],
   "source": [
    "overlap_wiki_sym = overlap(wiki_symspell, wiki_phonemes, 'symspell', 'cmu_phonemes', 'wiki', \n",
    "                           'symspell_cmu_phonemes')"
   ]
  },
  {
   "cell_type": "code",
   "execution_count": null,
   "metadata": {},
   "outputs": [],
   "source": [
    "overlap_wiki_sym"
   ]
  },
  {
   "cell_type": "code",
   "execution_count": null,
   "metadata": {},
   "outputs": [],
   "source": [
    "plt.figure(linewidth=5,  facecolor='#F0F0F0', figsize=(15,12), dpi=60)\n",
    "venn2(subsets=(overlap_wiki_sym['symspell'],overlap_wiki_sym['cmu_phonemes'],overlap_wiki_sym['both']), \n",
    "      set_labels=('','',''))\n",
    "\n",
    "venn2_circles(subsets=(overlap_wiki_sym['symspell'],overlap_wiki_sym['cmu_phonemes'],overlap_wiki_sym['both']))\n",
    "\n",
    "plt.legend(labels=['SymSpell', 'S-capade','Common'])\n",
    "plt.title('Wikipedia Dataset Corrections - SymSpell vs S-capade')\n",
    "plt.show()"
   ]
  },
  {
   "cell_type": "code",
   "execution_count": null,
   "metadata": {},
   "outputs": [],
   "source": [
    "print(color.BOLD + \"Aspell Overlap SymSpell vs Phonemes Method \\n\" + color.END)\n",
    "print_overlap_scores(overlap_wiki_sym, 'SymSpell')"
   ]
  },
  {
   "cell_type": "markdown",
   "metadata": {},
   "source": [
    "## 6.4 Wikipedia Overlap - Aspell vs Phonemes Method (Phoneme Correction with frequency dictionary)\n",
    "<a name=\"wiki_overlap_aspell\"></a>"
   ]
  },
  {
   "cell_type": "code",
   "execution_count": null,
   "metadata": {},
   "outputs": [],
   "source": [
    "overlap_wiki_asp = overlap(wiki_aspell, wiki_phonemes, 'aspell', 'cmu_phonemes', 'wiki', \n",
    "                           'aspell_cmu_phonemes')"
   ]
  },
  {
   "cell_type": "code",
   "execution_count": null,
   "metadata": {},
   "outputs": [],
   "source": [
    "overlap_wiki_asp"
   ]
  },
  {
   "cell_type": "code",
   "execution_count": null,
   "metadata": {},
   "outputs": [],
   "source": [
    "plt.figure(linewidth=5,  facecolor='#F0F0F0', figsize=(15,12), dpi=60)\n",
    "v = venn2(subsets=(overlap_wiki_asp['aspell'],overlap_wiki_asp['cmu_phonemes'],overlap_wiki_asp['both']), \n",
    "      set_labels=('Aspell', 'S-capade','Common'))\n",
    "\n",
    "venn2_circles(subsets=(overlap_wiki_asp['aspell'],overlap_wiki_asp['cmu_phonemes'],overlap_wiki_asp['both']))\n",
    "\n",
    "lbl_a = v.get_label_by_id(\"A\")\n",
    "lbl_b = v.get_label_by_id(\"B\")\n",
    "x1, y1 = lbl_a.get_position()\n",
    "x2, y2 = lbl_b.get_position()\n",
    "lbl_b.set_position((x2+0.15, y1))  \n",
    "# plt.legend(labels=['Aspell', 'S-capade','Common'])\n",
    "# plt.title('Wikipedia Dataset Corrections - Aspell vs Phonemes Method')\n",
    "plt.savefig('graphs/wiki_overlap')\n",
    "plt.show()"
   ]
  },
  {
   "cell_type": "code",
   "execution_count": null,
   "metadata": {},
   "outputs": [],
   "source": [
    "print(color.BOLD + \"Aspell Overlap Aspell vs S-capade \\n\" + color.END)\n",
    "print_overlap_scores(overlap_wiki_asp, 'Aspell')"
   ]
  },
  {
   "cell_type": "code",
   "execution_count": null,
   "metadata": {},
   "outputs": [],
   "source": []
  }
 ],
 "metadata": {
  "kernelspec": {
   "display_name": "Python 3",
   "language": "python",
   "name": "python3"
  },
  "language_info": {
   "codemirror_mode": {
    "name": "ipython",
    "version": 3
   },
   "file_extension": ".py",
   "mimetype": "text/x-python",
   "name": "python",
   "nbconvert_exporter": "python",
   "pygments_lexer": "ipython3",
   "version": "3.8.2"
  }
 },
 "nbformat": 4,
 "nbformat_minor": 4
}
