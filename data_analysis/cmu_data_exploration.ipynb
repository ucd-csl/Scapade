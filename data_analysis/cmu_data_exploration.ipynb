{
 "cells": [
  {
   "cell_type": "markdown",
   "metadata": {},
   "source": [
    "# CMU Pronouncing Dictionary - Data Exploration"
   ]
  },
  {
   "cell_type": "markdown",
   "metadata": {},
   "source": [
    "## 1.0 Introduction\n",
    "\n",
    "The CMU English dictionary is being used as part of a research project into the effectiveness of a phonetic spell checker for school children (referred to as user going forward) in The Republic of Ireland. It has been seen that if a user is unable to correctly spell a word, their attempt may be written phonetically, as they would say it. There is some overlap visible between the phoneme sequence for the correct spelling and the incorrect phonetic spelling. See Table 1 below for some examples.\n",
    "\n",
    "### Table 1\n",
    "\n",
    "| Correct Spelling | Phoneme Sequence | - | Incorrect Spelling | Phoneme Sequence |\n",
    "|:----------------:|:----------------:|:-:|:------------------:|:----------------:|\n",
    "| detailed         | D IH T EY LD     | - | detaled            | D IH T EY LD     |\n",
    "| opened           | OW P AH ND       | - | opend              | OW P AH ND       |\n",
    "\n",
    "In some cases we may not get an exact phoneme sequence match, but it may be close. To calculate this closeness a phoneme sequence edit distance function is deployed using levenshtein distance. It currently works as follows:\n",
    "\n",
    "* For each mispelling (represented as phoneme sequence) compare with each phoneme sequence in the CMU dictionary and calculate the edit distance (closeness currently measured as 2 or less).\n",
    "* Using a frequency dictionary to pick the highest frequency word from the list. \n",
    "\n",
    "This current implementation has two indentified drawbacks:\n",
    "\n",
    "* Big O(n<sup>2</sup>) as for each mispelling it needs to be compared with the CMU dictionary.\n",
    "* To reduce this complexity, only phoneme sequences that start and end with the same phoneme are compared. This means that similar sounding words may be excluded. For example \"three\" in a British accent starts with \"TH\" but in a strong Irish accent starts \"T\".\n",
    "\n",
    "This notebook will undertake data exploration of the CMU Pronouncing Dictionary to indentify any ways to reduce the complexity of the current strategy of edit distance calculation across phoneme sequences. "
   ]
  },
  {
   "cell_type": "markdown",
   "metadata": {},
   "source": [
    "## 2.0 Data Exploration and Understanding\n",
    "\n",
    "\n",
    "\n",
    "\n"
   ]
  },
  {
   "cell_type": "markdown",
   "metadata": {},
   "source": [
    "### 2.1 CMU Pronouncing Dictionary\n",
    "\n",
    "This section will explore the structure of the CMU dictionary and, hopefully, identify patterns that may be useful in reducing the time complexity of comparison operations. The following steps will be taken:\n",
    "\n",
    "* Explore word count and variation in the data set\n",
    "* Explore word count per phoneme sequence\n",
    "* Explore the phoneme sequence data - length statistics, count of different lengths\n",
    "* Explore the variety of phonemes in each sequence"
   ]
  },
  {
   "cell_type": "code",
   "execution_count": 27,
   "metadata": {},
   "outputs": [],
   "source": [
    "import pandas as pd \n",
    "import numpy as np\n",
    "from pathlib import Path\n",
    "\n",
    "data_folder = Path(\"C:/Users/robert/Documents/zeeko_nlp/input_files/\")\n",
    "file_to_open = data_folder / \"cmu_processed.csv\"\n",
    "df_cmu = pd.read_csv(file_to_open, encoding = \"ISO-8859-1\", names=['Word', 'Phonemes'])"
   ]
  },
  {
   "cell_type": "code",
   "execution_count": 28,
   "metadata": {},
   "outputs": [
    {
     "data": {
      "text/html": [
       "<div>\n",
       "<style scoped>\n",
       "    .dataframe tbody tr th:only-of-type {\n",
       "        vertical-align: middle;\n",
       "    }\n",
       "\n",
       "    .dataframe tbody tr th {\n",
       "        vertical-align: top;\n",
       "    }\n",
       "\n",
       "    .dataframe thead th {\n",
       "        text-align: right;\n",
       "    }\n",
       "</style>\n",
       "<table border=\"1\" class=\"dataframe\">\n",
       "  <thead>\n",
       "    <tr style=\"text-align: right;\">\n",
       "      <th></th>\n",
       "      <th>Word</th>\n",
       "      <th>Phonemes</th>\n",
       "    </tr>\n",
       "  </thead>\n",
       "  <tbody>\n",
       "    <tr>\n",
       "      <th>0</th>\n",
       "      <td>aa</td>\n",
       "      <td>EY EY</td>\n",
       "    </tr>\n",
       "    <tr>\n",
       "      <th>1</th>\n",
       "      <td>aaa</td>\n",
       "      <td>T R IH P AH L EY</td>\n",
       "    </tr>\n",
       "    <tr>\n",
       "      <th>2</th>\n",
       "      <td>aaberg</td>\n",
       "      <td>AA B ER G</td>\n",
       "    </tr>\n",
       "    <tr>\n",
       "      <th>3</th>\n",
       "      <td>aachen</td>\n",
       "      <td>AA K AH N</td>\n",
       "    </tr>\n",
       "    <tr>\n",
       "      <th>4</th>\n",
       "      <td>aachener</td>\n",
       "      <td>AA K AH N ER</td>\n",
       "    </tr>\n",
       "  </tbody>\n",
       "</table>\n",
       "</div>"
      ],
      "text/plain": [
       "       Word          Phonemes\n",
       "0        aa             EY EY\n",
       "1       aaa  T R IH P AH L EY\n",
       "2    aaberg         AA B ER G\n",
       "3    aachen         AA K AH N\n",
       "4  aachener      AA K AH N ER"
      ]
     },
     "execution_count": 28,
     "metadata": {},
     "output_type": "execute_result"
    }
   ],
   "source": [
    "df_cmu.head(5)"
   ]
  },
  {
   "cell_type": "markdown",
   "metadata": {},
   "source": [
    "### 2.2 Acoustic Similarity Matrix\n"
   ]
  },
  {
   "cell_type": "code",
   "execution_count": 16,
   "metadata": {},
   "outputs": [],
   "source": [
    "import os\n",
    "\n",
    "cwd = os.getcwd()  # Get the current working directory (cwd)\n",
    "files = os.listdir(cwd)  # Get all the files in that directory"
   ]
  },
  {
   "cell_type": "code",
   "execution_count": 17,
   "metadata": {},
   "outputs": [
    {
     "name": "stdout",
     "output_type": "stream",
     "text": [
      "Files in 'C:\\\\Users\\\\robert\\\\Documents\\\\zeeko_nlp\\\\data_analysis': ['.ipynb_checkpoints', 'cmu_data_exploration.ipynb']\n"
     ]
    }
   ],
   "source": [
    "print(\"Files in %r: %s\" % (cwd, files))"
   ]
  },
  {
   "cell_type": "code",
   "execution_count": null,
   "metadata": {},
   "outputs": [],
   "source": []
  }
 ],
 "metadata": {
  "kernelspec": {
   "display_name": "Python 3",
   "language": "python",
   "name": "python3"
  },
  "language_info": {
   "codemirror_mode": {
    "name": "ipython",
    "version": 3
   },
   "file_extension": ".py",
   "mimetype": "text/x-python",
   "name": "python",
   "nbconvert_exporter": "python",
   "pygments_lexer": "ipython3",
   "version": "3.7.6"
  }
 },
 "nbformat": 4,
 "nbformat_minor": 2
}
