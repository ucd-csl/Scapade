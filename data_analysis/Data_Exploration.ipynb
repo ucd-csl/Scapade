{
 "cells": [
  {
   "cell_type": "code",
   "execution_count": 18,
   "metadata": {},
   "outputs": [],
   "source": [
    "# import packages\n",
    "import pandas as pd\n",
    "import pickle\n",
    "import editdistance\n",
    "from collections import Counter"
   ]
  },
  {
   "cell_type": "code",
   "execution_count": null,
   "outputs": [],
   "source": [
    "# paths to datasets\n",
    "file_path = \"../input_files/spelling_correction_dicts/\"\n",
    "aspell = file_path + \"aspell_template_dict.txt\"\n",
    "birkbeck = file_path + \"birkbeck_template_dict.txt\"\n",
    "holbrook = file_path + \"holbrook_template_dict.txt\"\n",
    "wiki = file_path + \"wiki_template_dict.txt\"\n",
    "zeeko = file_path + \"zeeko_template_dict.txt\""
   ],
   "metadata": {
    "collapsed": false,
    "pycharm": {
     "name": "#%%\n"
    }
   }
  },
  {
   "cell_type": "code",
   "execution_count": null,
   "outputs": [],
   "source": [
    "# load each dataset\n",
    "aspell_dict = pickle.load(open(aspell, \"rb\" ))\n",
    "birkbeck_dict = pickle.load(open(birkbeck, \"rb\" ))\n",
    "holbrook_dict = pickle.load(open(holbrook, \"rb\" ))\n",
    "wiki_dict = pickle.load(open(wiki, \"rb\" ))\n",
    "zeeko_dict = pickle.load(open(zeeko, \"rb\" ))"
   ],
   "metadata": {
    "collapsed": false,
    "pycharm": {
     "name": "#%%\n"
    }
   }
  },
  {
   "cell_type": "code",
   "execution_count": null,
   "outputs": [],
   "source": [
    "print(\"Count of misspellings in Aspell datasets:\",len(aspell_dict))\n",
    "print(\"Count of misspellings in Birkbeck datasets:\",len(birkbeck_dict))\n",
    "print(\"Count of misspellings in Holbrook datasets:\",len(holbrook_dict))\n",
    "print(\"Count of misspellings in Wikipedia datasets:\",len(wiki_dict))\n",
    "print(\"Count of misspellings in Zeeko datasets:\",len(zeeko_dict))"
   ],
   "metadata": {
    "collapsed": false,
    "pycharm": {
     "name": "#%%\n"
    }
   }
  },
  {
   "cell_type": "code",
   "execution_count": null,
   "outputs": [],
   "source": [
    "dicts = {'aspell_dict':aspell_dict, 'birkbeck_dict':birkbeck_dict, 'holbrook_dict':holbrook_dict, \n",
    "         'wiki_dict':wiki_dict, 'zeeko_dict':zeeko_dict}"
   ],
   "metadata": {
    "collapsed": false,
    "pycharm": {
     "name": "#%%\n"
    }
   }
  },
  {
   "cell_type": "code",
   "execution_count": null,
   "outputs": [],
   "source": [
    "def counter_edit(dictionary):\n",
    "    dict_edit = dictionary.copy()\n",
    "    for key, value in dictionary.items():\n",
    "        dict_edit[key]['edit_distance'] = editdistance.eval(key, value['correct_spelling'])\n",
    "    \n",
    "    cnt = Counter()\n",
    "    for value in dict_edit.values():\n",
    "        cnt.update(str(value['edit_distance']))\n",
    "        \n",
    "    return cnt"
   ],
   "metadata": {
    "collapsed": false,
    "pycharm": {
     "name": "#%%\n"
    }
   }
  },
  {
   "cell_type": "code",
   "execution_count": null,
   "outputs": [],
   "source": [
    "aspell_dict_edit = aspell_dict.copy()\n",
    "for key, value in aspell_dict.items():\n",
    "    aspell_dict_edit[key]['edit_distance'] = editdistance.eval(key, value['correct_spelling'])\n",
    "    \n",
    "aspell_cnt = Counter()\n",
    "for value in aspell_dict_edit.values():\n",
    "    aspell_cnt.update(str(value['edit_distance']))"
   ],
   "metadata": {
    "collapsed": false,
    "pycharm": {
     "name": "#%%\n"
    }
   }
  },
  {
   "cell_type": "code",
   "execution_count": null,
   "outputs": [],
   "source": [
    "output = {}\n",
    "for dataset_name, values in dicts.items():\n",
    "    output[dataset_name] = counter_edit(values)"
   ],
   "metadata": {
    "collapsed": false,
    "pycharm": {
     "name": "#%%\n"
    }
   }
  },
  {
   "cell_type": "code",
   "execution_count": null,
   "outputs": [],
   "source": [
    "print(\"Display data about Aspell dataset in form 'edit-distance:word-count'\")\n",
    "output['aspell_dict']"
   ],
   "metadata": {
    "collapsed": false,
    "pycharm": {
     "name": "#%%\n"
    }
   }
  },
  {
   "cell_type": "code",
   "execution_count": null,
   "outputs": [],
   "source": [
    "print(\"Display data about Birkbeck dataset in form 'edit-distance:word-count'\")\n",
    "output['birkbeck_dict']"
   ],
   "metadata": {
    "collapsed": false,
    "pycharm": {
     "name": "#%%\n"
    }
   }
  },
  {
   "cell_type": "code",
   "execution_count": null,
   "outputs": [],
   "source": [
    "print(\"Display data about Holbrook dataset in form 'edit-distance:word-count'\")\n",
    "output['holbrook_dict']"
   ],
   "metadata": {
    "collapsed": false,
    "pycharm": {
     "name": "#%%\n"
    }
   }
  },
  {
   "cell_type": "code",
   "execution_count": null,
   "outputs": [],
   "source": [
    "print(\"Display data about Wikipedia dataset in form 'edit-distance:word-count'\")\n",
    "output['wiki_dict']"
   ],
   "metadata": {
    "collapsed": false,
    "pycharm": {
     "name": "#%%\n"
    }
   }
  },
  {
   "cell_type": "code",
   "execution_count": null,
   "outputs": [],
   "source": [
    "print(\"Display data about Zeeko dataset in form 'edit-distance:word-count'\")\n",
    "output['zeeko_dict']"
   ],
   "metadata": {
    "collapsed": false,
    "pycharm": {
     "name": "#%%\n"
    }
   }
  },
  {
   "cell_type": "code",
   "execution_count": null,
   "outputs": [],
   "source": [],
   "metadata": {
    "collapsed": false,
    "pycharm": {
     "name": "#%%\n"
    }
   }
  },
  {
   "cell_type": "code",
   "execution_count": 33,
   "metadata": {},
   "outputs": [],
   "source": []
  },
  {
   "cell_type": "code",
   "execution_count": 20,
   "metadata": {},
   "outputs": [],
   "source": [
    "# load each dataset\n",
    "aspell_dict = pickle.load(open(aspell, \"rb\" ))\n",
    "birkbeck_dict = pickle.load(open(birkbeck, \"rb\" ))\n",
    "holbrook_dict = pickle.load(open(holbrook, \"rb\" ))\n",
    "wiki_dict = pickle.load(open(wiki, \"rb\" ))\n",
    "zeeko_dict = pickle.load(open(zeeko, \"rb\" ))"
   ]
  },
  {
   "cell_type": "code",
   "execution_count": 37,
   "metadata": {},
   "outputs": [
    {
     "name": "stdout",
     "output_type": "stream",
     "text": [
      "Count of misspellings in Aspell datasets: 515\n",
      "Count of misspellings in Birkbeck datasets: 33887\n",
      "Count of misspellings in Holbrook datasets: 1562\n",
      "Count of misspellings in Wikipedia datasets: 2230\n",
      "Count of misspellings in Zeeko datasets: 232\n"
     ]
    }
   ],
   "source": [
    "print(\"Count of misspellings in Aspell datasets:\",len(aspell_dict))\n",
    "print(\"Count of misspellings in Birkbeck datasets:\",len(birkbeck_dict))\n",
    "print(\"Count of misspellings in Holbrook datasets:\",len(holbrook_dict))\n",
    "print(\"Count of misspellings in Wikipedia datasets:\",len(wiki_dict))\n",
    "print(\"Count of misspellings in Zeeko datasets:\",len(zeeko_dict))"
   ]
  },
  {
   "cell_type": "code",
   "execution_count": 38,
   "metadata": {},
   "outputs": [],
   "source": [
    "dicts = {'aspell_dict':aspell_dict, 'birkbeck_dict':birkbeck_dict, 'holbrook_dict':holbrook_dict, \n",
    "         'wiki_dict':wiki_dict, 'zeeko_dict':zeeko_dict}"
   ]
  },
  {
   "cell_type": "code",
   "execution_count": 39,
   "metadata": {},
   "outputs": [],
   "source": [
    "def counter_edit(dictionary):\n",
    "    dict_edit = dictionary.copy()\n",
    "    for key, value in dictionary.items():\n",
    "        dict_edit[key]['edit_distance'] = editdistance.eval(key, value['correct_spelling'])\n",
    "    \n",
    "    cnt = Counter()\n",
    "    for value in dict_edit.values():\n",
    "        cnt.update(str(value['edit_distance']))\n",
    "        \n",
    "    return cnt"
   ]
  },
  {
   "cell_type": "code",
   "execution_count": 41,
   "metadata": {},
   "outputs": [],
   "source": [
    "aspell_dict_edit = aspell_dict.copy()\n",
    "for key, value in aspell_dict.items():\n",
    "    aspell_dict_edit[key]['edit_distance'] = editdistance.eval(key, value['correct_spelling'])\n",
    "    \n",
    "aspell_cnt = Counter()\n",
    "for value in aspell_dict_edit.values():\n",
    "    aspell_cnt.update(str(value['edit_distance']))"
   ]
  },
  {
   "cell_type": "code",
   "execution_count": 44,
   "metadata": {},
   "outputs": [],
   "source": [
    "output = {}\n",
    "for dataset_name, values in dicts.items():\n",
    "    output[dataset_name] = counter_edit(values)"
   ]
  },
  {
   "cell_type": "code",
   "execution_count": 46,
   "metadata": {},
   "outputs": [
    {
     "name": "stdout",
     "output_type": "stream",
     "text": [
      "Display data about Aspell dataset in form 'edit-distance:word-count'\n"
     ]
    },
    {
     "data": {
      "text/plain": [
       "Counter({'1': 250, '0': 3, '2': 160, '3': 61, '5': 11, '4': 28, '6': 2})"
      ]
     },
     "execution_count": 46,
     "metadata": {},
     "output_type": "execute_result"
    }
   ],
   "source": [
    "print(\"Display data about Aspell dataset in form 'edit-distance:word-count'\")\n",
    "output['aspell_dict']"
   ]
  },
  {
   "cell_type": "code",
   "execution_count": 47,
   "metadata": {},
   "outputs": [
    {
     "name": "stdout",
     "output_type": "stream",
     "text": [
      "Display data about Birkbeck dataset in form 'edit-distance:word-count'\n"
     ]
    },
    {
     "data": {
      "text/plain": [
       "Counter({'6': 1132,\n",
       "         '1': 10297,\n",
       "         '2': 8764,\n",
       "         '3': 6324,\n",
       "         '4': 4238,\n",
       "         '5': 2256,\n",
       "         '7': 519,\n",
       "         '8': 226,\n",
       "         '0': 93,\n",
       "         '9': 82})"
      ]
     },
     "execution_count": 47,
     "metadata": {},
     "output_type": "execute_result"
    }
   ],
   "source": [
    "print(\"Display data about Birkbeck dataset in form 'edit-distance:word-count'\")\n",
    "output['birkbeck_dict']"
   ]
  },
  {
   "cell_type": "code",
   "execution_count": 48,
   "metadata": {},
   "outputs": [
    {
     "name": "stdout",
     "output_type": "stream",
     "text": [
      "Display data about Holbrook dataset in form 'edit-distance:word-count'\n"
     ]
    },
    {
     "data": {
      "text/plain": [
       "Counter({'2': 481,\n",
       "         '3': 191,\n",
       "         '1': 810,\n",
       "         '0': 3,\n",
       "         '5': 18,\n",
       "         '4': 52,\n",
       "         '6': 5,\n",
       "         '7': 2})"
      ]
     },
     "execution_count": 48,
     "metadata": {},
     "output_type": "execute_result"
    }
   ],
   "source": [
    "print(\"Display data about Holbrook dataset in form 'edit-distance:word-count'\")\n",
    "output['holbrook_dict']"
   ]
  },
  {
   "cell_type": "code",
   "execution_count": 49,
   "metadata": {},
   "outputs": [
    {
     "name": "stdout",
     "output_type": "stream",
     "text": [
      "Display data about Wikipedia dataset in form 'edit-distance:word-count'\n"
     ]
    },
    {
     "data": {
      "text/plain": [
       "Counter({'1': 1536,\n",
       "         '2': 616,\n",
       "         '3': 54,\n",
       "         '8': 2,\n",
       "         '7': 1,\n",
       "         '4': 16,\n",
       "         '0': 2,\n",
       "         '5': 3})"
      ]
     },
     "execution_count": 49,
     "metadata": {},
     "output_type": "execute_result"
    }
   ],
   "source": [
    "print(\"Display data about Wikipedia dataset in form 'edit-distance:word-count'\")\n",
    "output['wiki_dict']"
   ]
  },
  {
   "cell_type": "code",
   "execution_count": 51,
   "metadata": {},
   "outputs": [
    {
     "name": "stdout",
     "output_type": "stream",
     "text": [
      "Display data about Zeeko dataset in form 'edit-distance:word-count'\n"
     ]
    },
    {
     "data": {
      "text/plain": [
       "Counter({'3': 12, '2': 75, '1': 132, '4': 5, '5': 2, '8': 1, '0': 4, '7': 1})"
      ]
     },
     "execution_count": 51,
     "metadata": {},
     "output_type": "execute_result"
    }
   ],
   "source": [
    "print(\"Display data about Zeeko dataset in form 'edit-distance:word-count'\")\n",
    "output['zeeko_dict']"
   ]
  },
  {
   "cell_type": "code",
   "execution_count": null,
   "metadata": {},
   "outputs": [],
   "source": []
  }
 ],
 "metadata": {
  "kernelspec": {
   "display_name": "Python 3",
   "language": "python",
   "name": "python3"
  },
  "language_info": {
   "codemirror_mode": {
    "name": "ipython",
    "version": 3
   },
   "file_extension": ".py",
   "mimetype": "text/x-python",
   "name": "python",
   "nbconvert_exporter": "python",
   "pygments_lexer": "ipython3",
   "version": "3.8.2"
  }
 },
 "nbformat": 4,
 "nbformat_minor": 1
}